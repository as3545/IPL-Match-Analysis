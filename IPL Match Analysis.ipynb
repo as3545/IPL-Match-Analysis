{
 "cells": [
  {
   "cell_type": "code",
   "execution_count": 1,
   "id": "2112a603",
   "metadata": {},
   "outputs": [],
   "source": [
    "import pandas as p\n",
    "import numpy as n\n",
    "import matplotlib.pyplot as plt\n",
    "import seaborn as s\n",
    "import math \n",
    "%matplotlib inline"
   ]
  },
  {
   "cell_type": "code",
   "execution_count": 2,
   "id": "7ec94c8c",
   "metadata": {},
   "outputs": [],
   "source": [
    "ipl=p.read_csv(\"IPL Dataset.csv\")"
   ]
  },
  {
   "cell_type": "code",
   "execution_count": 3,
   "id": "02977cd5",
   "metadata": {},
   "outputs": [
    {
     "data": {
      "text/html": [
       "<div>\n",
       "<style scoped>\n",
       "    .dataframe tbody tr th:only-of-type {\n",
       "        vertical-align: middle;\n",
       "    }\n",
       "\n",
       "    .dataframe tbody tr th {\n",
       "        vertical-align: top;\n",
       "    }\n",
       "\n",
       "    .dataframe thead th {\n",
       "        text-align: right;\n",
       "    }\n",
       "</style>\n",
       "<table border=\"1\" class=\"dataframe\">\n",
       "  <thead>\n",
       "    <tr style=\"text-align: right;\">\n",
       "      <th></th>\n",
       "      <th>match_id</th>\n",
       "      <th>season</th>\n",
       "      <th>start_date</th>\n",
       "      <th>venue</th>\n",
       "      <th>innings</th>\n",
       "      <th>ball</th>\n",
       "      <th>batting_team</th>\n",
       "      <th>bowling_team</th>\n",
       "      <th>striker</th>\n",
       "      <th>non_striker</th>\n",
       "      <th>...</th>\n",
       "      <th>runs_off_bat</th>\n",
       "      <th>extras</th>\n",
       "      <th>wides</th>\n",
       "      <th>noballs</th>\n",
       "      <th>byes</th>\n",
       "      <th>legbyes</th>\n",
       "      <th>wicket_type</th>\n",
       "      <th>player_dismissed</th>\n",
       "      <th>run</th>\n",
       "      <th>over</th>\n",
       "    </tr>\n",
       "  </thead>\n",
       "  <tbody>\n",
       "    <tr>\n",
       "      <th>0</th>\n",
       "      <td>335982</td>\n",
       "      <td>2008</td>\n",
       "      <td>2008-04-18</td>\n",
       "      <td>M.Chinnaswamy Stadium</td>\n",
       "      <td>1</td>\n",
       "      <td>0.1</td>\n",
       "      <td>Kolkata Knight Riders</td>\n",
       "      <td>Royal Challengers Bangalore</td>\n",
       "      <td>SC Ganguly</td>\n",
       "      <td>BB McCullum</td>\n",
       "      <td>...</td>\n",
       "      <td>0</td>\n",
       "      <td>1</td>\n",
       "      <td>0.0</td>\n",
       "      <td>0.0</td>\n",
       "      <td>0.0</td>\n",
       "      <td>1.0</td>\n",
       "      <td></td>\n",
       "      <td></td>\n",
       "      <td>1</td>\n",
       "      <td>0</td>\n",
       "    </tr>\n",
       "    <tr>\n",
       "      <th>1</th>\n",
       "      <td>335982</td>\n",
       "      <td>2008</td>\n",
       "      <td>2008-04-18</td>\n",
       "      <td>M.Chinnaswamy Stadium</td>\n",
       "      <td>1</td>\n",
       "      <td>0.2</td>\n",
       "      <td>Kolkata Knight Riders</td>\n",
       "      <td>Royal Challengers Bangalore</td>\n",
       "      <td>BB McCullum</td>\n",
       "      <td>SC Ganguly</td>\n",
       "      <td>...</td>\n",
       "      <td>0</td>\n",
       "      <td>0</td>\n",
       "      <td>0.0</td>\n",
       "      <td>0.0</td>\n",
       "      <td>0.0</td>\n",
       "      <td>0.0</td>\n",
       "      <td></td>\n",
       "      <td></td>\n",
       "      <td>0</td>\n",
       "      <td>0</td>\n",
       "    </tr>\n",
       "    <tr>\n",
       "      <th>2</th>\n",
       "      <td>335982</td>\n",
       "      <td>2008</td>\n",
       "      <td>2008-04-18</td>\n",
       "      <td>M.Chinnaswamy Stadium</td>\n",
       "      <td>1</td>\n",
       "      <td>0.3</td>\n",
       "      <td>Kolkata Knight Riders</td>\n",
       "      <td>Royal Challengers Bangalore</td>\n",
       "      <td>BB McCullum</td>\n",
       "      <td>SC Ganguly</td>\n",
       "      <td>...</td>\n",
       "      <td>0</td>\n",
       "      <td>1</td>\n",
       "      <td>1.0</td>\n",
       "      <td>0.0</td>\n",
       "      <td>0.0</td>\n",
       "      <td>0.0</td>\n",
       "      <td></td>\n",
       "      <td></td>\n",
       "      <td>1</td>\n",
       "      <td>0</td>\n",
       "    </tr>\n",
       "    <tr>\n",
       "      <th>3</th>\n",
       "      <td>335982</td>\n",
       "      <td>2008</td>\n",
       "      <td>2008-04-18</td>\n",
       "      <td>M.Chinnaswamy Stadium</td>\n",
       "      <td>1</td>\n",
       "      <td>0.4</td>\n",
       "      <td>Kolkata Knight Riders</td>\n",
       "      <td>Royal Challengers Bangalore</td>\n",
       "      <td>BB McCullum</td>\n",
       "      <td>SC Ganguly</td>\n",
       "      <td>...</td>\n",
       "      <td>0</td>\n",
       "      <td>0</td>\n",
       "      <td>0.0</td>\n",
       "      <td>0.0</td>\n",
       "      <td>0.0</td>\n",
       "      <td>0.0</td>\n",
       "      <td></td>\n",
       "      <td></td>\n",
       "      <td>0</td>\n",
       "      <td>0</td>\n",
       "    </tr>\n",
       "    <tr>\n",
       "      <th>4</th>\n",
       "      <td>335982</td>\n",
       "      <td>2008</td>\n",
       "      <td>2008-04-18</td>\n",
       "      <td>M.Chinnaswamy Stadium</td>\n",
       "      <td>1</td>\n",
       "      <td>0.5</td>\n",
       "      <td>Kolkata Knight Riders</td>\n",
       "      <td>Royal Challengers Bangalore</td>\n",
       "      <td>BB McCullum</td>\n",
       "      <td>SC Ganguly</td>\n",
       "      <td>...</td>\n",
       "      <td>0</td>\n",
       "      <td>0</td>\n",
       "      <td>0.0</td>\n",
       "      <td>0.0</td>\n",
       "      <td>0.0</td>\n",
       "      <td>0.0</td>\n",
       "      <td></td>\n",
       "      <td></td>\n",
       "      <td>0</td>\n",
       "      <td>0</td>\n",
       "    </tr>\n",
       "  </tbody>\n",
       "</table>\n",
       "<p>5 rows × 21 columns</p>\n",
       "</div>"
      ],
      "text/plain": [
       "   match_id  season  start_date                  venue  innings  ball  \\\n",
       "0    335982    2008  2008-04-18  M.Chinnaswamy Stadium        1   0.1   \n",
       "1    335982    2008  2008-04-18  M.Chinnaswamy Stadium        1   0.2   \n",
       "2    335982    2008  2008-04-18  M.Chinnaswamy Stadium        1   0.3   \n",
       "3    335982    2008  2008-04-18  M.Chinnaswamy Stadium        1   0.4   \n",
       "4    335982    2008  2008-04-18  M.Chinnaswamy Stadium        1   0.5   \n",
       "\n",
       "            batting_team                 bowling_team      striker  \\\n",
       "0  Kolkata Knight Riders  Royal Challengers Bangalore   SC Ganguly   \n",
       "1  Kolkata Knight Riders  Royal Challengers Bangalore  BB McCullum   \n",
       "2  Kolkata Knight Riders  Royal Challengers Bangalore  BB McCullum   \n",
       "3  Kolkata Knight Riders  Royal Challengers Bangalore  BB McCullum   \n",
       "4  Kolkata Knight Riders  Royal Challengers Bangalore  BB McCullum   \n",
       "\n",
       "   non_striker  ... runs_off_bat  extras  wides  noballs  byes  legbyes  \\\n",
       "0  BB McCullum  ...            0       1    0.0      0.0   0.0      1.0   \n",
       "1   SC Ganguly  ...            0       0    0.0      0.0   0.0      0.0   \n",
       "2   SC Ganguly  ...            0       1    1.0      0.0   0.0      0.0   \n",
       "3   SC Ganguly  ...            0       0    0.0      0.0   0.0      0.0   \n",
       "4   SC Ganguly  ...            0       0    0.0      0.0   0.0      0.0   \n",
       "\n",
       "   wicket_type player_dismissed run  over  \n",
       "0                                 1     0  \n",
       "1                                 0     0  \n",
       "2                                 1     0  \n",
       "3                                 0     0  \n",
       "4                                 0     0  \n",
       "\n",
       "[5 rows x 21 columns]"
      ]
     },
     "execution_count": 3,
     "metadata": {},
     "output_type": "execute_result"
    }
   ],
   "source": [
    "ipl.head(5)"
   ]
  },
  {
   "cell_type": "code",
   "execution_count": 4,
   "id": "200d117a",
   "metadata": {},
   "outputs": [
    {
     "data": {
      "text/plain": [
       "0                            M.Chinnaswamy Stadium\n",
       "1                            M.Chinnaswamy Stadium\n",
       "2                            M.Chinnaswamy Stadium\n",
       "3                            M.Chinnaswamy Stadium\n",
       "4                            M.Chinnaswamy Stadium\n",
       "                            ...                   \n",
       "194349    MA Chidambaram Stadium, Chepauk, Chennai\n",
       "194350    MA Chidambaram Stadium, Chepauk, Chennai\n",
       "194351    MA Chidambaram Stadium, Chepauk, Chennai\n",
       "194352    MA Chidambaram Stadium, Chepauk, Chennai\n",
       "194353    MA Chidambaram Stadium, Chepauk, Chennai\n",
       "Name: venue, Length: 194354, dtype: object"
      ]
     },
     "execution_count": 4,
     "metadata": {},
     "output_type": "execute_result"
    }
   ],
   "source": [
    "ipl['venue']"
   ]
  },
  {
   "cell_type": "code",
   "execution_count": 5,
   "id": "a5056def",
   "metadata": {},
   "outputs": [
    {
     "data": {
      "text/plain": [
       "Mumbai Indians                 24618\n",
       "Royal Challengers Bangalore    22850\n",
       "Kolkata Knight Riders          22700\n",
       "Kings XI Punjab                22646\n",
       "Chennai Super Kings            21583\n",
       "Rajasthan Royals               18968\n",
       "Delhi Daredevils               18786\n",
       "Sunrisers Hyderabad            14965\n",
       "Deccan Chargers                 9034\n",
       "Pune Warriors                   5443\n",
       "Delhi Capitals                  4133\n",
       "Gujarat Lions                   3566\n",
       "Rising Pune Supergiant          3480\n",
       "Kochi Tuskers Kerala            1582\n",
       "Name: batting_team, dtype: int64"
      ]
     },
     "execution_count": 5,
     "metadata": {},
     "output_type": "execute_result"
    }
   ],
   "source": [
    "ipl['batting_team'].value_counts()"
   ]
  },
  {
   "cell_type": "code",
   "execution_count": 6,
   "id": "472b4919",
   "metadata": {},
   "outputs": [
    {
     "data": {
      "text/html": [
       "<div>\n",
       "<style scoped>\n",
       "    .dataframe tbody tr th:only-of-type {\n",
       "        vertical-align: middle;\n",
       "    }\n",
       "\n",
       "    .dataframe tbody tr th {\n",
       "        vertical-align: top;\n",
       "    }\n",
       "\n",
       "    .dataframe thead th {\n",
       "        text-align: right;\n",
       "    }\n",
       "</style>\n",
       "<table border=\"1\" class=\"dataframe\">\n",
       "  <thead>\n",
       "    <tr style=\"text-align: right;\">\n",
       "      <th></th>\n",
       "      <th>match_id</th>\n",
       "      <th>season</th>\n",
       "      <th>innings</th>\n",
       "      <th>ball</th>\n",
       "      <th>runs_off_bat</th>\n",
       "      <th>extras</th>\n",
       "      <th>wides</th>\n",
       "      <th>noballs</th>\n",
       "      <th>byes</th>\n",
       "      <th>legbyes</th>\n",
       "      <th>run</th>\n",
       "      <th>over</th>\n",
       "    </tr>\n",
       "  </thead>\n",
       "  <tbody>\n",
       "    <tr>\n",
       "      <th>count</th>\n",
       "      <td>1.943540e+05</td>\n",
       "      <td>194354.000000</td>\n",
       "      <td>194354.000000</td>\n",
       "      <td>194354.000000</td>\n",
       "      <td>194354.000000</td>\n",
       "      <td>194354.000000</td>\n",
       "      <td>194354.000000</td>\n",
       "      <td>194354.000000</td>\n",
       "      <td>194354.000000</td>\n",
       "      <td>194354.000000</td>\n",
       "      <td>194354.000000</td>\n",
       "      <td>194354.000000</td>\n",
       "    </tr>\n",
       "    <tr>\n",
       "      <th>mean</th>\n",
       "      <td>7.587790e+05</td>\n",
       "      <td>2013.963680</td>\n",
       "      <td>1.483839</td>\n",
       "      <td>9.532730</td>\n",
       "      <td>1.241122</td>\n",
       "      <td>0.066420</td>\n",
       "      <td>0.036644</td>\n",
       "      <td>0.004163</td>\n",
       "      <td>0.004816</td>\n",
       "      <td>0.020746</td>\n",
       "      <td>1.307542</td>\n",
       "      <td>9.171152</td>\n",
       "    </tr>\n",
       "    <tr>\n",
       "      <th>std</th>\n",
       "      <td>3.070766e+05</td>\n",
       "      <td>3.686446</td>\n",
       "      <td>0.503402</td>\n",
       "      <td>5.682251</td>\n",
       "      <td>1.611592</td>\n",
       "      <td>0.340048</td>\n",
       "      <td>0.249402</td>\n",
       "      <td>0.069901</td>\n",
       "      <td>0.114802</td>\n",
       "      <td>0.193491</td>\n",
       "      <td>1.599556</td>\n",
       "      <td>5.680564</td>\n",
       "    </tr>\n",
       "    <tr>\n",
       "      <th>min</th>\n",
       "      <td>3.359820e+05</td>\n",
       "      <td>2008.000000</td>\n",
       "      <td>1.000000</td>\n",
       "      <td>0.100000</td>\n",
       "      <td>0.000000</td>\n",
       "      <td>0.000000</td>\n",
       "      <td>0.000000</td>\n",
       "      <td>0.000000</td>\n",
       "      <td>0.000000</td>\n",
       "      <td>0.000000</td>\n",
       "      <td>0.000000</td>\n",
       "      <td>0.000000</td>\n",
       "    </tr>\n",
       "    <tr>\n",
       "      <th>25%</th>\n",
       "      <td>5.012280e+05</td>\n",
       "      <td>2011.000000</td>\n",
       "      <td>1.000000</td>\n",
       "      <td>4.500000</td>\n",
       "      <td>0.000000</td>\n",
       "      <td>0.000000</td>\n",
       "      <td>0.000000</td>\n",
       "      <td>0.000000</td>\n",
       "      <td>0.000000</td>\n",
       "      <td>0.000000</td>\n",
       "      <td>0.000000</td>\n",
       "      <td>4.000000</td>\n",
       "    </tr>\n",
       "    <tr>\n",
       "      <th>50%</th>\n",
       "      <td>7.292990e+05</td>\n",
       "      <td>2014.000000</td>\n",
       "      <td>1.000000</td>\n",
       "      <td>9.400000</td>\n",
       "      <td>1.000000</td>\n",
       "      <td>0.000000</td>\n",
       "      <td>0.000000</td>\n",
       "      <td>0.000000</td>\n",
       "      <td>0.000000</td>\n",
       "      <td>0.000000</td>\n",
       "      <td>1.000000</td>\n",
       "      <td>9.000000</td>\n",
       "    </tr>\n",
       "    <tr>\n",
       "      <th>75%</th>\n",
       "      <td>1.082630e+06</td>\n",
       "      <td>2017.000000</td>\n",
       "      <td>2.000000</td>\n",
       "      <td>14.400000</td>\n",
       "      <td>1.000000</td>\n",
       "      <td>0.000000</td>\n",
       "      <td>0.000000</td>\n",
       "      <td>0.000000</td>\n",
       "      <td>0.000000</td>\n",
       "      <td>0.000000</td>\n",
       "      <td>1.000000</td>\n",
       "      <td>14.000000</td>\n",
       "    </tr>\n",
       "    <tr>\n",
       "      <th>max</th>\n",
       "      <td>1.254060e+06</td>\n",
       "      <td>2021.000000</td>\n",
       "      <td>6.000000</td>\n",
       "      <td>19.900000</td>\n",
       "      <td>6.000000</td>\n",
       "      <td>7.000000</td>\n",
       "      <td>5.000000</td>\n",
       "      <td>5.000000</td>\n",
       "      <td>4.000000</td>\n",
       "      <td>5.000000</td>\n",
       "      <td>7.000000</td>\n",
       "      <td>19.000000</td>\n",
       "    </tr>\n",
       "  </tbody>\n",
       "</table>\n",
       "</div>"
      ],
      "text/plain": [
       "           match_id         season        innings           ball  \\\n",
       "count  1.943540e+05  194354.000000  194354.000000  194354.000000   \n",
       "mean   7.587790e+05    2013.963680       1.483839       9.532730   \n",
       "std    3.070766e+05       3.686446       0.503402       5.682251   \n",
       "min    3.359820e+05    2008.000000       1.000000       0.100000   \n",
       "25%    5.012280e+05    2011.000000       1.000000       4.500000   \n",
       "50%    7.292990e+05    2014.000000       1.000000       9.400000   \n",
       "75%    1.082630e+06    2017.000000       2.000000      14.400000   \n",
       "max    1.254060e+06    2021.000000       6.000000      19.900000   \n",
       "\n",
       "        runs_off_bat         extras          wides        noballs  \\\n",
       "count  194354.000000  194354.000000  194354.000000  194354.000000   \n",
       "mean        1.241122       0.066420       0.036644       0.004163   \n",
       "std         1.611592       0.340048       0.249402       0.069901   \n",
       "min         0.000000       0.000000       0.000000       0.000000   \n",
       "25%         0.000000       0.000000       0.000000       0.000000   \n",
       "50%         1.000000       0.000000       0.000000       0.000000   \n",
       "75%         1.000000       0.000000       0.000000       0.000000   \n",
       "max         6.000000       7.000000       5.000000       5.000000   \n",
       "\n",
       "                byes        legbyes            run           over  \n",
       "count  194354.000000  194354.000000  194354.000000  194354.000000  \n",
       "mean        0.004816       0.020746       1.307542       9.171152  \n",
       "std         0.114802       0.193491       1.599556       5.680564  \n",
       "min         0.000000       0.000000       0.000000       0.000000  \n",
       "25%         0.000000       0.000000       0.000000       4.000000  \n",
       "50%         0.000000       0.000000       1.000000       9.000000  \n",
       "75%         0.000000       0.000000       1.000000      14.000000  \n",
       "max         4.000000       5.000000       7.000000      19.000000  "
      ]
     },
     "execution_count": 6,
     "metadata": {},
     "output_type": "execute_result"
    }
   ],
   "source": [
    "ipl.describe()"
   ]
  },
  {
   "cell_type": "code",
   "execution_count": 7,
   "id": "3264fa22",
   "metadata": {},
   "outputs": [
    {
     "data": {
      "text/plain": [
       "match_id            0\n",
       "season              0\n",
       "start_date          0\n",
       "venue               0\n",
       "innings             0\n",
       "ball                0\n",
       "batting_team        0\n",
       "bowling_team        0\n",
       "striker             0\n",
       "non_striker         0\n",
       "bowler              0\n",
       "runs_off_bat        0\n",
       "extras              0\n",
       "wides               0\n",
       "noballs             0\n",
       "byes                0\n",
       "legbyes             0\n",
       "wicket_type         0\n",
       "player_dismissed    0\n",
       "run                 0\n",
       "over                0\n",
       "dtype: int64"
      ]
     },
     "execution_count": 7,
     "metadata": {},
     "output_type": "execute_result"
    }
   ],
   "source": [
    "ipl.isnull().sum()"
   ]
  },
  {
   "cell_type": "code",
   "execution_count": 8,
   "id": "d819d522",
   "metadata": {},
   "outputs": [
    {
     "data": {
      "text/plain": [
       "match_id            False\n",
       "season              False\n",
       "start_date          False\n",
       "venue               False\n",
       "innings             False\n",
       "ball                False\n",
       "batting_team        False\n",
       "bowling_team        False\n",
       "striker             False\n",
       "non_striker         False\n",
       "bowler              False\n",
       "runs_off_bat        False\n",
       "extras              False\n",
       "wides               False\n",
       "noballs             False\n",
       "byes                False\n",
       "legbyes             False\n",
       "wicket_type         False\n",
       "player_dismissed    False\n",
       "run                 False\n",
       "over                False\n",
       "dtype: bool"
      ]
     },
     "execution_count": 8,
     "metadata": {},
     "output_type": "execute_result"
    }
   ],
   "source": [
    "ipl.isna().any()"
   ]
  },
  {
   "cell_type": "code",
   "execution_count": 9,
   "id": "6018a146",
   "metadata": {},
   "outputs": [
    {
     "name": "stdout",
     "output_type": "stream",
     "text": [
      "<class 'pandas.core.frame.DataFrame'>\n",
      "RangeIndex: 194354 entries, 0 to 194353\n",
      "Data columns (total 21 columns):\n",
      " #   Column            Non-Null Count   Dtype  \n",
      "---  ------            --------------   -----  \n",
      " 0   match_id          194354 non-null  int64  \n",
      " 1   season            194354 non-null  int64  \n",
      " 2   start_date        194354 non-null  object \n",
      " 3   venue             194354 non-null  object \n",
      " 4   innings           194354 non-null  int64  \n",
      " 5   ball              194354 non-null  float64\n",
      " 6   batting_team      194354 non-null  object \n",
      " 7   bowling_team      194354 non-null  object \n",
      " 8   striker           194354 non-null  object \n",
      " 9   non_striker       194354 non-null  object \n",
      " 10  bowler            194354 non-null  object \n",
      " 11  runs_off_bat      194354 non-null  int64  \n",
      " 12  extras            194354 non-null  int64  \n",
      " 13  wides             194354 non-null  float64\n",
      " 14  noballs           194354 non-null  float64\n",
      " 15  byes              194354 non-null  float64\n",
      " 16  legbyes           194354 non-null  float64\n",
      " 17  wicket_type       194354 non-null  object \n",
      " 18  player_dismissed  194354 non-null  object \n",
      " 19  run               194354 non-null  int64  \n",
      " 20  over              194354 non-null  int64  \n",
      "dtypes: float64(5), int64(7), object(9)\n",
      "memory usage: 31.1+ MB\n"
     ]
    }
   ],
   "source": [
    "ipl.info()"
   ]
  },
  {
   "cell_type": "code",
   "execution_count": 10,
   "id": "8bf0b9a5",
   "metadata": {},
   "outputs": [
    {
     "data": {
      "text/plain": [
       "(194354, 21)"
      ]
     },
     "execution_count": 10,
     "metadata": {},
     "output_type": "execute_result"
    }
   ],
   "source": [
    "ipl.shape"
   ]
  },
  {
   "cell_type": "code",
   "execution_count": 11,
   "id": "9de4f90f",
   "metadata": {},
   "outputs": [
    {
     "data": {
      "text/plain": [
       "4081434"
      ]
     },
     "execution_count": 11,
     "metadata": {},
     "output_type": "execute_result"
    }
   ],
   "source": [
    "ipl.size"
   ]
  },
  {
   "cell_type": "code",
   "execution_count": 12,
   "id": "8a8a5efd",
   "metadata": {},
   "outputs": [
    {
     "data": {
      "text/plain": [
       "0         2008\n",
       "1         2008\n",
       "2         2008\n",
       "3         2008\n",
       "4         2008\n",
       "          ... \n",
       "194349    2021\n",
       "194350    2021\n",
       "194351    2021\n",
       "194352    2021\n",
       "194353    2021\n",
       "Name: season, Length: 194354, dtype: int64"
      ]
     },
     "execution_count": 12,
     "metadata": {},
     "output_type": "execute_result"
    }
   ],
   "source": [
    "ipl['season']"
   ]
  },
  {
   "cell_type": "code",
   "execution_count": 13,
   "id": "eb7b4e1d",
   "metadata": {},
   "outputs": [
    {
     "data": {
      "text/plain": [
       "array([2008, 2009, 2010, 2011, 2012, 2013, 2014, 2015, 2016, 2017, 2019,\n",
       "       2018, 2020, 2021], dtype=int64)"
      ]
     },
     "execution_count": 13,
     "metadata": {},
     "output_type": "execute_result"
    }
   ],
   "source": [
    "#lIST OF SEASON\n",
    "ipl['season'].unique()"
   ]
  },
  {
   "cell_type": "code",
   "execution_count": 14,
   "id": "c5c5c6f3",
   "metadata": {},
   "outputs": [
    {
     "data": {
      "text/plain": [
       "match_id                                 335982\n",
       "season                                     2008\n",
       "start_date                           2008-04-18\n",
       "venue                     M.Chinnaswamy Stadium\n",
       "innings                                       1\n",
       "ball                                        0.2\n",
       "batting_team              Kolkata Knight Riders\n",
       "bowling_team        Royal Challengers Bangalore\n",
       "striker                             BB McCullum\n",
       "non_striker                          SC Ganguly\n",
       "bowler                                  P Kumar\n",
       "runs_off_bat                                  0\n",
       "extras                                        0\n",
       "wides                                       0.0\n",
       "noballs                                     0.0\n",
       "byes                                        0.0\n",
       "legbyes                                     0.0\n",
       "wicket_type                                    \n",
       "player_dismissed                               \n",
       "run                                           0\n",
       "over                                          0\n",
       "Name: 1, dtype: object"
      ]
     },
     "execution_count": 14,
     "metadata": {},
     "output_type": "execute_result"
    }
   ],
   "source": [
    "#SECOND BALL OF IPL MATCH\n",
    "ipl.iloc[1]"
   ]
  },
  {
   "cell_type": "code",
   "execution_count": 15,
   "id": "2d97d27b",
   "metadata": {},
   "outputs": [
    {
     "data": {
      "text/plain": [
       "match_id                                             1254060\n",
       "season                                                  2021\n",
       "start_date                                        2021-04-11\n",
       "venue               MA Chidambaram Stadium, Chepauk, Chennai\n",
       "innings                                                    2\n",
       "ball                                                    19.6\n",
       "batting_team                             Sunrisers Hyderabad\n",
       "bowling_team                           Kolkata Knight Riders\n",
       "striker                                            MK Pandey\n",
       "non_striker                                      Abdul Samad\n",
       "bowler                                            AD Russell\n",
       "runs_off_bat                                               6\n",
       "extras                                                     0\n",
       "wides                                                    0.0\n",
       "noballs                                                  0.0\n",
       "byes                                                     0.0\n",
       "legbyes                                                  0.0\n",
       "wicket_type                                                 \n",
       "player_dismissed                                            \n",
       "run                                                        6\n",
       "over                                                      19\n",
       "Name: 194353, dtype: object"
      ]
     },
     "execution_count": 15,
     "metadata": {},
     "output_type": "execute_result"
    }
   ],
   "source": [
    "#LAST BALL OF IPL MATCH\n",
    "ipl.iloc[-1]"
   ]
  },
  {
   "cell_type": "code",
   "execution_count": 16,
   "id": "50b38867",
   "metadata": {},
   "outputs": [
    {
     "data": {
      "image/png": "[encoded data removed]",
      "text/plain": [
       "<Figure size 1500x800 with 1 Axes>"
      ]
     },
     "metadata": {},
     "output_type": "display_data"
    }
   ],
   "source": [
    "plt.figure(figsize=(15,8))\n",
    "statistics=ipl.groupby(['match_id', 'season']).count().index.droplevel(level=0).value_counts().sort_index()\n",
    "s.barplot(y=statistics.index, x=statistics, orient='h')\n",
    "plt.xlabel('Matches Played')\n",
    "plt.ylabel('Season')\n",
    "plt.show()"
   ]
  },
  {
   "cell_type": "code",
   "execution_count": 17,
   "id": "b85c846e",
   "metadata": {},
   "outputs": [
    {
     "data": {
      "text/plain": [
       "M.Chinnaswamy Stadium                                   80\n",
       "Eden Gardens                                            77\n",
       "Arun Jaitley Stadium                                    74\n",
       "Wankhede Stadium, Mumbai                                74\n",
       "Rajiv Gandhi International Stadium, Uppal               64\n",
       "MA Chidambaram Stadium, Chepauk, Chennai                59\n",
       "Punjab Cricket Association IS Bindra Stadium, Mohali    56\n",
       "Sawai Mansingh Stadium                                  47\n",
       "Dubai International Cricket Stadium                     33\n",
       "Sheikh Zayed Stadium                                    29\n",
       "Maharashtra Cricket Association Stadium                 21\n",
       "Sharjah Cricket Stadium                                 18\n",
       "Dr DY Patil Sports Academy                              17\n",
       "Subrata Roy Sahara Stadium                              17\n",
       "Kingsmead                                               15\n",
       "Dr. Y.S. Rajasekhara Reddy ACA-VDCA Cricket Stadium     13\n",
       "SuperSport Park                                         12\n",
       "Sardar Patel Stadium, Motera                            12\n",
       "Brabourne Stadium                                       11\n",
       "Saurashtra Cricket Association Stadium                  10\n",
       "Holkar Cricket Stadium                                   9\n",
       "Himachal Pradesh Cricket Association Stadium             9\n",
       "New Wanderers Stadium                                    8\n",
       "JSCA International Stadium Complex                       7\n",
       "Barabati Stadium                                         7\n",
       "St George's Park                                         7\n",
       "Newlands                                                 7\n",
       "Shaheed Veer Narayan Singh International Stadium         6\n",
       "Nehru Stadium                                            5\n",
       "Green Park                                               4\n",
       "Buffalo Park                                             3\n",
       "Vidarbha Cricket Association Stadium, Jamtha             3\n",
       "De Beers Diamond Oval                                    3\n",
       "OUTsurance Oval                                          2\n",
       "Name: venue, dtype: int64"
      ]
     },
     "execution_count": 17,
     "metadata": {},
     "output_type": "execute_result"
    }
   ],
   "source": [
    "ipl.groupby(['venue','match_id']).count().droplevel(level=1).index.value_counts()"
   ]
  },
  {
   "cell_type": "code",
   "execution_count": 18,
   "id": "3605b830",
   "metadata": {},
   "outputs": [
    {
     "data": {
      "text/html": [
       "<div>\n",
       "<style scoped>\n",
       "    .dataframe tbody tr th:only-of-type {\n",
       "        vertical-align: middle;\n",
       "    }\n",
       "\n",
       "    .dataframe tbody tr th {\n",
       "        vertical-align: top;\n",
       "    }\n",
       "\n",
       "    .dataframe thead th {\n",
       "        text-align: right;\n",
       "    }\n",
       "</style>\n",
       "<table border=\"1\" class=\"dataframe\">\n",
       "  <thead>\n",
       "    <tr style=\"text-align: right;\">\n",
       "      <th></th>\n",
       "      <th>season</th>\n",
       "      <th>start_date</th>\n",
       "      <th>venue</th>\n",
       "      <th>innings</th>\n",
       "      <th>ball</th>\n",
       "      <th>bowling_team</th>\n",
       "      <th>striker</th>\n",
       "      <th>non_striker</th>\n",
       "      <th>bowler</th>\n",
       "      <th>runs_off_bat</th>\n",
       "      <th>extras</th>\n",
       "      <th>wides</th>\n",
       "      <th>noballs</th>\n",
       "      <th>byes</th>\n",
       "      <th>legbyes</th>\n",
       "      <th>wicket_type</th>\n",
       "      <th>player_dismissed</th>\n",
       "      <th>run</th>\n",
       "      <th>over</th>\n",
       "    </tr>\n",
       "    <tr>\n",
       "      <th>match_id</th>\n",
       "      <th></th>\n",
       "      <th></th>\n",
       "      <th></th>\n",
       "      <th></th>\n",
       "      <th></th>\n",
       "      <th></th>\n",
       "      <th></th>\n",
       "      <th></th>\n",
       "      <th></th>\n",
       "      <th></th>\n",
       "      <th></th>\n",
       "      <th></th>\n",
       "      <th></th>\n",
       "      <th></th>\n",
       "      <th></th>\n",
       "      <th></th>\n",
       "      <th></th>\n",
       "      <th></th>\n",
       "      <th></th>\n",
       "    </tr>\n",
       "  </thead>\n",
       "  <tbody>\n",
       "    <tr>\n",
       "      <th>335983</th>\n",
       "      <td>124</td>\n",
       "      <td>124</td>\n",
       "      <td>124</td>\n",
       "      <td>124</td>\n",
       "      <td>124</td>\n",
       "      <td>124</td>\n",
       "      <td>124</td>\n",
       "      <td>124</td>\n",
       "      <td>124</td>\n",
       "      <td>124</td>\n",
       "      <td>124</td>\n",
       "      <td>124</td>\n",
       "      <td>124</td>\n",
       "      <td>124</td>\n",
       "      <td>124</td>\n",
       "      <td>124</td>\n",
       "      <td>124</td>\n",
       "      <td>124</td>\n",
       "      <td>124</td>\n",
       "    </tr>\n",
       "    <tr>\n",
       "      <th>335989</th>\n",
       "      <td>127</td>\n",
       "      <td>127</td>\n",
       "      <td>127</td>\n",
       "      <td>127</td>\n",
       "      <td>127</td>\n",
       "      <td>127</td>\n",
       "      <td>127</td>\n",
       "      <td>127</td>\n",
       "      <td>127</td>\n",
       "      <td>127</td>\n",
       "      <td>127</td>\n",
       "      <td>127</td>\n",
       "      <td>127</td>\n",
       "      <td>127</td>\n",
       "      <td>127</td>\n",
       "      <td>127</td>\n",
       "      <td>127</td>\n",
       "      <td>127</td>\n",
       "      <td>127</td>\n",
       "    </tr>\n",
       "    <tr>\n",
       "      <th>335993</th>\n",
       "      <td>107</td>\n",
       "      <td>107</td>\n",
       "      <td>107</td>\n",
       "      <td>107</td>\n",
       "      <td>107</td>\n",
       "      <td>107</td>\n",
       "      <td>107</td>\n",
       "      <td>107</td>\n",
       "      <td>107</td>\n",
       "      <td>107</td>\n",
       "      <td>107</td>\n",
       "      <td>107</td>\n",
       "      <td>107</td>\n",
       "      <td>107</td>\n",
       "      <td>107</td>\n",
       "      <td>107</td>\n",
       "      <td>107</td>\n",
       "      <td>107</td>\n",
       "      <td>107</td>\n",
       "    </tr>\n",
       "    <tr>\n",
       "      <th>335996</th>\n",
       "      <td>123</td>\n",
       "      <td>123</td>\n",
       "      <td>123</td>\n",
       "      <td>123</td>\n",
       "      <td>123</td>\n",
       "      <td>123</td>\n",
       "      <td>123</td>\n",
       "      <td>123</td>\n",
       "      <td>123</td>\n",
       "      <td>123</td>\n",
       "      <td>123</td>\n",
       "      <td>123</td>\n",
       "      <td>123</td>\n",
       "      <td>123</td>\n",
       "      <td>123</td>\n",
       "      <td>123</td>\n",
       "      <td>123</td>\n",
       "      <td>123</td>\n",
       "      <td>123</td>\n",
       "    </tr>\n",
       "    <tr>\n",
       "      <th>336001</th>\n",
       "      <td>126</td>\n",
       "      <td>126</td>\n",
       "      <td>126</td>\n",
       "      <td>126</td>\n",
       "      <td>126</td>\n",
       "      <td>126</td>\n",
       "      <td>126</td>\n",
       "      <td>126</td>\n",
       "      <td>126</td>\n",
       "      <td>126</td>\n",
       "      <td>126</td>\n",
       "      <td>126</td>\n",
       "      <td>126</td>\n",
       "      <td>126</td>\n",
       "      <td>126</td>\n",
       "      <td>126</td>\n",
       "      <td>126</td>\n",
       "      <td>126</td>\n",
       "      <td>126</td>\n",
       "    </tr>\n",
       "    <tr>\n",
       "      <th>...</th>\n",
       "      <td>...</td>\n",
       "      <td>...</td>\n",
       "      <td>...</td>\n",
       "      <td>...</td>\n",
       "      <td>...</td>\n",
       "      <td>...</td>\n",
       "      <td>...</td>\n",
       "      <td>...</td>\n",
       "      <td>...</td>\n",
       "      <td>...</td>\n",
       "      <td>...</td>\n",
       "      <td>...</td>\n",
       "      <td>...</td>\n",
       "      <td>...</td>\n",
       "      <td>...</td>\n",
       "      <td>...</td>\n",
       "      <td>...</td>\n",
       "      <td>...</td>\n",
       "      <td>...</td>\n",
       "    </tr>\n",
       "    <tr>\n",
       "      <th>1216542</th>\n",
       "      <td>125</td>\n",
       "      <td>125</td>\n",
       "      <td>125</td>\n",
       "      <td>125</td>\n",
       "      <td>125</td>\n",
       "      <td>125</td>\n",
       "      <td>125</td>\n",
       "      <td>125</td>\n",
       "      <td>125</td>\n",
       "      <td>125</td>\n",
       "      <td>125</td>\n",
       "      <td>125</td>\n",
       "      <td>125</td>\n",
       "      <td>125</td>\n",
       "      <td>125</td>\n",
       "      <td>125</td>\n",
       "      <td>125</td>\n",
       "      <td>125</td>\n",
       "      <td>125</td>\n",
       "    </tr>\n",
       "    <tr>\n",
       "      <th>1216545</th>\n",
       "      <td>123</td>\n",
       "      <td>123</td>\n",
       "      <td>123</td>\n",
       "      <td>123</td>\n",
       "      <td>123</td>\n",
       "      <td>123</td>\n",
       "      <td>123</td>\n",
       "      <td>123</td>\n",
       "      <td>123</td>\n",
       "      <td>123</td>\n",
       "      <td>123</td>\n",
       "      <td>123</td>\n",
       "      <td>123</td>\n",
       "      <td>123</td>\n",
       "      <td>123</td>\n",
       "      <td>123</td>\n",
       "      <td>123</td>\n",
       "      <td>123</td>\n",
       "      <td>123</td>\n",
       "    </tr>\n",
       "    <tr>\n",
       "      <th>1237178</th>\n",
       "      <td>123</td>\n",
       "      <td>123</td>\n",
       "      <td>123</td>\n",
       "      <td>123</td>\n",
       "      <td>123</td>\n",
       "      <td>123</td>\n",
       "      <td>123</td>\n",
       "      <td>123</td>\n",
       "      <td>123</td>\n",
       "      <td>123</td>\n",
       "      <td>123</td>\n",
       "      <td>123</td>\n",
       "      <td>123</td>\n",
       "      <td>123</td>\n",
       "      <td>123</td>\n",
       "      <td>123</td>\n",
       "      <td>123</td>\n",
       "      <td>123</td>\n",
       "      <td>123</td>\n",
       "    </tr>\n",
       "    <tr>\n",
       "      <th>1237180</th>\n",
       "      <td>125</td>\n",
       "      <td>125</td>\n",
       "      <td>125</td>\n",
       "      <td>125</td>\n",
       "      <td>125</td>\n",
       "      <td>125</td>\n",
       "      <td>125</td>\n",
       "      <td>125</td>\n",
       "      <td>125</td>\n",
       "      <td>125</td>\n",
       "      <td>125</td>\n",
       "      <td>125</td>\n",
       "      <td>125</td>\n",
       "      <td>125</td>\n",
       "      <td>125</td>\n",
       "      <td>125</td>\n",
       "      <td>125</td>\n",
       "      <td>125</td>\n",
       "      <td>125</td>\n",
       "    </tr>\n",
       "    <tr>\n",
       "      <th>1254060</th>\n",
       "      <td>125</td>\n",
       "      <td>125</td>\n",
       "      <td>125</td>\n",
       "      <td>125</td>\n",
       "      <td>125</td>\n",
       "      <td>125</td>\n",
       "      <td>125</td>\n",
       "      <td>125</td>\n",
       "      <td>125</td>\n",
       "      <td>125</td>\n",
       "      <td>125</td>\n",
       "      <td>125</td>\n",
       "      <td>125</td>\n",
       "      <td>125</td>\n",
       "      <td>125</td>\n",
       "      <td>125</td>\n",
       "      <td>125</td>\n",
       "      <td>125</td>\n",
       "      <td>125</td>\n",
       "    </tr>\n",
       "  </tbody>\n",
       "</table>\n",
       "<p>1636 rows × 19 columns</p>\n",
       "</div>"
      ],
      "text/plain": [
       "          season  start_date  venue  innings  ball  bowling_team  striker  \\\n",
       "match_id                                                                    \n",
       "335983       124         124    124      124   124           124      124   \n",
       "335989       127         127    127      127   127           127      127   \n",
       "335993       107         107    107      107   107           107      107   \n",
       "335996       123         123    123      123   123           123      123   \n",
       "336001       126         126    126      126   126           126      126   \n",
       "...          ...         ...    ...      ...   ...           ...      ...   \n",
       "1216542      125         125    125      125   125           125      125   \n",
       "1216545      123         123    123      123   123           123      123   \n",
       "1237178      123         123    123      123   123           123      123   \n",
       "1237180      125         125    125      125   125           125      125   \n",
       "1254060      125         125    125      125   125           125      125   \n",
       "\n",
       "          non_striker  bowler  runs_off_bat  extras  wides  noballs  byes  \\\n",
       "match_id                                                                    \n",
       "335983            124     124           124     124    124      124   124   \n",
       "335989            127     127           127     127    127      127   127   \n",
       "335993            107     107           107     107    107      107   107   \n",
       "335996            123     123           123     123    123      123   123   \n",
       "336001            126     126           126     126    126      126   126   \n",
       "...               ...     ...           ...     ...    ...      ...   ...   \n",
       "1216542           125     125           125     125    125      125   125   \n",
       "1216545           123     123           123     123    123      123   123   \n",
       "1237178           123     123           123     123    123      123   123   \n",
       "1237180           125     125           125     125    125      125   125   \n",
       "1254060           125     125           125     125    125      125   125   \n",
       "\n",
       "          legbyes  wicket_type  player_dismissed  run  over  \n",
       "match_id                                                     \n",
       "335983        124          124               124  124   124  \n",
       "335989        127          127               127  127   127  \n",
       "335993        107          107               107  107   107  \n",
       "335996        123          123               123  123   123  \n",
       "336001        126          126               126  126   126  \n",
       "...           ...          ...               ...  ...   ...  \n",
       "1216542       125          125               125  125   125  \n",
       "1216545       123          123               123  123   123  \n",
       "1237178       123          123               123  123   123  \n",
       "1237180       125          125               125  125   125  \n",
       "1254060       125          125               125  125   125  \n",
       "\n",
       "[1636 rows x 19 columns]"
      ]
     },
     "execution_count": 18,
     "metadata": {},
     "output_type": "execute_result"
    }
   ],
   "source": [
    "ipl.groupby(['batting_team','match_id']).count().droplevel(level=0)"
   ]
  },
  {
   "cell_type": "code",
   "execution_count": 19,
   "id": "0a8b37fa",
   "metadata": {},
   "outputs": [
    {
     "data": {
      "text/plain": [
       "204"
      ]
     },
     "execution_count": 19,
     "metadata": {},
     "output_type": "execute_result"
    }
   ],
   "source": [
    "ipl.groupby(['batting_team','match_id']).count().droplevel(level=1).index.value_counts().max()"
   ]
  },
  {
   "cell_type": "code",
   "execution_count": 20,
   "id": "54828e80",
   "metadata": {},
   "outputs": [
    {
     "data": {
      "text/plain": [
       "14"
      ]
     },
     "execution_count": 20,
     "metadata": {},
     "output_type": "execute_result"
    }
   ],
   "source": [
    "ipl.groupby(['bowling_team','match_id']).count().droplevel(level=1).index.value_counts().min()"
   ]
  },
  {
   "cell_type": "code",
   "execution_count": 21,
   "id": "54cb9aa5",
   "metadata": {},
   "outputs": [
    {
     "data": {
      "image/png": "[encoded data removed]",
      "text/plain": [
       "<Figure size 900x800 with 1 Axes>"
      ]
     },
     "metadata": {},
     "output_type": "display_data"
    }
   ],
   "source": [
    "plt.figure(figsize=(9,8))\n",
    "stats=ipl.groupby(['match_id','bowling_team']).count().index.droplevel(level=0).value_counts().sort_index()\n",
    "s.barplot(y=stats.index,x=stats, orient='h')\n",
    "plt.ylabel('Bowling Teams')\n",
    "plt.xlabel('Matches played')\n",
    "plt.show()"
   ]
  },
  {
   "cell_type": "code",
   "execution_count": 22,
   "id": "d45e9c87",
   "metadata": {},
   "outputs": [
    {
     "data": {
      "text/plain": [
       "batting_team\n",
       "Mumbai Indians                 32488\n",
       "Royal Challengers Bangalore    30415\n",
       "Kings XI Punjab                30064\n",
       "Kolkata Knight Riders          29606\n",
       "Chennai Super Kings            28560\n",
       "Rajasthan Royals               24542\n",
       "Delhi Daredevils               24296\n",
       "Sunrisers Hyderabad            19539\n",
       "Deccan Chargers                11463\n",
       "Pune Warriors                   6358\n",
       "Delhi Capitals                  5499\n",
       "Gujarat Lions                   4862\n",
       "Rising Pune Supergiant          4533\n",
       "Kochi Tuskers Kerala            1901\n",
       "Name: run, dtype: int64"
      ]
     },
     "execution_count": 22,
     "metadata": {},
     "output_type": "execute_result"
    }
   ],
   "source": [
    "ipl.groupby(['batting_team'])['run'].sum().sort_values(ascending=False)"
   ]
  },
  {
   "cell_type": "code",
   "execution_count": 23,
   "id": "c525cfda",
   "metadata": {},
   "outputs": [
    {
     "data": {
      "text/plain": [
       "striker\n",
       "V Kohli         5921\n",
       "SK Raina        5430\n",
       "S Dhawan        5282\n",
       "DA Warner       5257\n",
       "RG Sharma       5251\n",
       "                ... \n",
       "IC Pandey          0\n",
       "DR Sams            0\n",
       "U Kaul             0\n",
       "ND Doshi           0\n",
       "Abdur Razzak       0\n",
       "Name: runs_off_bat, Length: 540, dtype: int64"
      ]
     },
     "execution_count": 23,
     "metadata": {},
     "output_type": "execute_result"
    }
   ],
   "source": [
    "ipl.groupby(['striker'])['runs_off_bat'].sum().sort_values(ascending=False)"
   ]
  },
  {
   "cell_type": "code",
   "execution_count": 24,
   "id": "6923a0b6",
   "metadata": {},
   "outputs": [
    {
     "data": {
      "image/png": "[encoded data removed]",
      "text/plain": [
       "<Figure size 1000x800 with 1 Axes>"
      ]
     },
     "metadata": {},
     "output_type": "display_data"
    }
   ],
   "source": [
    "plt.figure(figsize=(10,8))\n",
    "data=ipl.groupby(['striker'])['runs_off_bat'].sum().sort_values(ascending=False)[:15]\n",
    "s.barplot(y=data.index, x=data, orient='h')\n",
    "plt.xlabel('Striker')\n",
    "plt.ylabel('Players')\n",
    "plt.show()"
   ]
  },
  {
   "cell_type": "code",
   "execution_count": 25,
   "id": "57b4686d",
   "metadata": {},
   "outputs": [
    {
     "data": {
      "text/plain": [
       "19"
      ]
     },
     "execution_count": 25,
     "metadata": {},
     "output_type": "execute_result"
    }
   ],
   "source": [
    "ipl['over'].max()"
   ]
  },
  {
   "cell_type": "code",
   "execution_count": 26,
   "id": "6676789e",
   "metadata": {},
   "outputs": [
    {
     "data": {
      "text/html": [
       "<div>\n",
       "<style scoped>\n",
       "    .dataframe tbody tr th:only-of-type {\n",
       "        vertical-align: middle;\n",
       "    }\n",
       "\n",
       "    .dataframe tbody tr th {\n",
       "        vertical-align: top;\n",
       "    }\n",
       "\n",
       "    .dataframe thead th {\n",
       "        text-align: right;\n",
       "    }\n",
       "</style>\n",
       "<table border=\"1\" class=\"dataframe\">\n",
       "  <thead>\n",
       "    <tr style=\"text-align: right;\">\n",
       "      <th></th>\n",
       "      <th>match_id</th>\n",
       "      <th>season</th>\n",
       "      <th>start_date</th>\n",
       "      <th>venue</th>\n",
       "      <th>innings</th>\n",
       "      <th>ball</th>\n",
       "      <th>batting_team</th>\n",
       "      <th>bowling_team</th>\n",
       "      <th>striker</th>\n",
       "      <th>non_striker</th>\n",
       "      <th>...</th>\n",
       "      <th>runs_off_bat</th>\n",
       "      <th>extras</th>\n",
       "      <th>wides</th>\n",
       "      <th>noballs</th>\n",
       "      <th>byes</th>\n",
       "      <th>legbyes</th>\n",
       "      <th>wicket_type</th>\n",
       "      <th>player_dismissed</th>\n",
       "      <th>run</th>\n",
       "      <th>over</th>\n",
       "    </tr>\n",
       "  </thead>\n",
       "  <tbody>\n",
       "    <tr>\n",
       "      <th>0</th>\n",
       "      <td>335982</td>\n",
       "      <td>2008</td>\n",
       "      <td>2008-04-18</td>\n",
       "      <td>M.Chinnaswamy Stadium</td>\n",
       "      <td>1</td>\n",
       "      <td>0.1</td>\n",
       "      <td>Kolkata Knight Riders</td>\n",
       "      <td>Royal Challengers Bangalore</td>\n",
       "      <td>SC Ganguly</td>\n",
       "      <td>BB McCullum</td>\n",
       "      <td>...</td>\n",
       "      <td>0</td>\n",
       "      <td>1</td>\n",
       "      <td>0.0</td>\n",
       "      <td>0.0</td>\n",
       "      <td>0.0</td>\n",
       "      <td>1.0</td>\n",
       "      <td></td>\n",
       "      <td></td>\n",
       "      <td>1</td>\n",
       "      <td>0</td>\n",
       "    </tr>\n",
       "    <tr>\n",
       "      <th>1</th>\n",
       "      <td>335982</td>\n",
       "      <td>2008</td>\n",
       "      <td>2008-04-18</td>\n",
       "      <td>M.Chinnaswamy Stadium</td>\n",
       "      <td>1</td>\n",
       "      <td>0.2</td>\n",
       "      <td>Kolkata Knight Riders</td>\n",
       "      <td>Royal Challengers Bangalore</td>\n",
       "      <td>BB McCullum</td>\n",
       "      <td>SC Ganguly</td>\n",
       "      <td>...</td>\n",
       "      <td>0</td>\n",
       "      <td>0</td>\n",
       "      <td>0.0</td>\n",
       "      <td>0.0</td>\n",
       "      <td>0.0</td>\n",
       "      <td>0.0</td>\n",
       "      <td></td>\n",
       "      <td></td>\n",
       "      <td>0</td>\n",
       "      <td>0</td>\n",
       "    </tr>\n",
       "    <tr>\n",
       "      <th>2</th>\n",
       "      <td>335982</td>\n",
       "      <td>2008</td>\n",
       "      <td>2008-04-18</td>\n",
       "      <td>M.Chinnaswamy Stadium</td>\n",
       "      <td>1</td>\n",
       "      <td>0.3</td>\n",
       "      <td>Kolkata Knight Riders</td>\n",
       "      <td>Royal Challengers Bangalore</td>\n",
       "      <td>BB McCullum</td>\n",
       "      <td>SC Ganguly</td>\n",
       "      <td>...</td>\n",
       "      <td>0</td>\n",
       "      <td>1</td>\n",
       "      <td>1.0</td>\n",
       "      <td>0.0</td>\n",
       "      <td>0.0</td>\n",
       "      <td>0.0</td>\n",
       "      <td></td>\n",
       "      <td></td>\n",
       "      <td>1</td>\n",
       "      <td>0</td>\n",
       "    </tr>\n",
       "    <tr>\n",
       "      <th>3</th>\n",
       "      <td>335982</td>\n",
       "      <td>2008</td>\n",
       "      <td>2008-04-18</td>\n",
       "      <td>M.Chinnaswamy Stadium</td>\n",
       "      <td>1</td>\n",
       "      <td>0.4</td>\n",
       "      <td>Kolkata Knight Riders</td>\n",
       "      <td>Royal Challengers Bangalore</td>\n",
       "      <td>BB McCullum</td>\n",
       "      <td>SC Ganguly</td>\n",
       "      <td>...</td>\n",
       "      <td>0</td>\n",
       "      <td>0</td>\n",
       "      <td>0.0</td>\n",
       "      <td>0.0</td>\n",
       "      <td>0.0</td>\n",
       "      <td>0.0</td>\n",
       "      <td></td>\n",
       "      <td></td>\n",
       "      <td>0</td>\n",
       "      <td>0</td>\n",
       "    </tr>\n",
       "    <tr>\n",
       "      <th>4</th>\n",
       "      <td>335982</td>\n",
       "      <td>2008</td>\n",
       "      <td>2008-04-18</td>\n",
       "      <td>M.Chinnaswamy Stadium</td>\n",
       "      <td>1</td>\n",
       "      <td>0.5</td>\n",
       "      <td>Kolkata Knight Riders</td>\n",
       "      <td>Royal Challengers Bangalore</td>\n",
       "      <td>BB McCullum</td>\n",
       "      <td>SC Ganguly</td>\n",
       "      <td>...</td>\n",
       "      <td>0</td>\n",
       "      <td>0</td>\n",
       "      <td>0.0</td>\n",
       "      <td>0.0</td>\n",
       "      <td>0.0</td>\n",
       "      <td>0.0</td>\n",
       "      <td></td>\n",
       "      <td></td>\n",
       "      <td>0</td>\n",
       "      <td>0</td>\n",
       "    </tr>\n",
       "    <tr>\n",
       "      <th>...</th>\n",
       "      <td>...</td>\n",
       "      <td>...</td>\n",
       "      <td>...</td>\n",
       "      <td>...</td>\n",
       "      <td>...</td>\n",
       "      <td>...</td>\n",
       "      <td>...</td>\n",
       "      <td>...</td>\n",
       "      <td>...</td>\n",
       "      <td>...</td>\n",
       "      <td>...</td>\n",
       "      <td>...</td>\n",
       "      <td>...</td>\n",
       "      <td>...</td>\n",
       "      <td>...</td>\n",
       "      <td>...</td>\n",
       "      <td>...</td>\n",
       "      <td>...</td>\n",
       "      <td>...</td>\n",
       "      <td>...</td>\n",
       "      <td>...</td>\n",
       "    </tr>\n",
       "    <tr>\n",
       "      <th>194254</th>\n",
       "      <td>1254060</td>\n",
       "      <td>2021</td>\n",
       "      <td>2021-04-11</td>\n",
       "      <td>MA Chidambaram Stadium, Chepauk, Chennai</td>\n",
       "      <td>2</td>\n",
       "      <td>4.2</td>\n",
       "      <td>Sunrisers Hyderabad</td>\n",
       "      <td>Kolkata Knight Riders</td>\n",
       "      <td>JM Bairstow</td>\n",
       "      <td>MK Pandey</td>\n",
       "      <td>...</td>\n",
       "      <td>6</td>\n",
       "      <td>0</td>\n",
       "      <td>0.0</td>\n",
       "      <td>0.0</td>\n",
       "      <td>0.0</td>\n",
       "      <td>0.0</td>\n",
       "      <td></td>\n",
       "      <td></td>\n",
       "      <td>6</td>\n",
       "      <td>4</td>\n",
       "    </tr>\n",
       "    <tr>\n",
       "      <th>194255</th>\n",
       "      <td>1254060</td>\n",
       "      <td>2021</td>\n",
       "      <td>2021-04-11</td>\n",
       "      <td>MA Chidambaram Stadium, Chepauk, Chennai</td>\n",
       "      <td>2</td>\n",
       "      <td>4.3</td>\n",
       "      <td>Sunrisers Hyderabad</td>\n",
       "      <td>Kolkata Knight Riders</td>\n",
       "      <td>JM Bairstow</td>\n",
       "      <td>MK Pandey</td>\n",
       "      <td>...</td>\n",
       "      <td>1</td>\n",
       "      <td>0</td>\n",
       "      <td>0.0</td>\n",
       "      <td>0.0</td>\n",
       "      <td>0.0</td>\n",
       "      <td>0.0</td>\n",
       "      <td></td>\n",
       "      <td></td>\n",
       "      <td>1</td>\n",
       "      <td>4</td>\n",
       "    </tr>\n",
       "    <tr>\n",
       "      <th>194256</th>\n",
       "      <td>1254060</td>\n",
       "      <td>2021</td>\n",
       "      <td>2021-04-11</td>\n",
       "      <td>MA Chidambaram Stadium, Chepauk, Chennai</td>\n",
       "      <td>2</td>\n",
       "      <td>4.4</td>\n",
       "      <td>Sunrisers Hyderabad</td>\n",
       "      <td>Kolkata Knight Riders</td>\n",
       "      <td>MK Pandey</td>\n",
       "      <td>JM Bairstow</td>\n",
       "      <td>...</td>\n",
       "      <td>0</td>\n",
       "      <td>0</td>\n",
       "      <td>0.0</td>\n",
       "      <td>0.0</td>\n",
       "      <td>0.0</td>\n",
       "      <td>0.0</td>\n",
       "      <td></td>\n",
       "      <td></td>\n",
       "      <td>0</td>\n",
       "      <td>4</td>\n",
       "    </tr>\n",
       "    <tr>\n",
       "      <th>194257</th>\n",
       "      <td>1254060</td>\n",
       "      <td>2021</td>\n",
       "      <td>2021-04-11</td>\n",
       "      <td>MA Chidambaram Stadium, Chepauk, Chennai</td>\n",
       "      <td>2</td>\n",
       "      <td>4.5</td>\n",
       "      <td>Sunrisers Hyderabad</td>\n",
       "      <td>Kolkata Knight Riders</td>\n",
       "      <td>MK Pandey</td>\n",
       "      <td>JM Bairstow</td>\n",
       "      <td>...</td>\n",
       "      <td>4</td>\n",
       "      <td>0</td>\n",
       "      <td>0.0</td>\n",
       "      <td>0.0</td>\n",
       "      <td>0.0</td>\n",
       "      <td>0.0</td>\n",
       "      <td></td>\n",
       "      <td></td>\n",
       "      <td>4</td>\n",
       "      <td>4</td>\n",
       "    </tr>\n",
       "    <tr>\n",
       "      <th>194258</th>\n",
       "      <td>1254060</td>\n",
       "      <td>2021</td>\n",
       "      <td>2021-04-11</td>\n",
       "      <td>MA Chidambaram Stadium, Chepauk, Chennai</td>\n",
       "      <td>2</td>\n",
       "      <td>4.6</td>\n",
       "      <td>Sunrisers Hyderabad</td>\n",
       "      <td>Kolkata Knight Riders</td>\n",
       "      <td>MK Pandey</td>\n",
       "      <td>JM Bairstow</td>\n",
       "      <td>...</td>\n",
       "      <td>1</td>\n",
       "      <td>0</td>\n",
       "      <td>0.0</td>\n",
       "      <td>0.0</td>\n",
       "      <td>0.0</td>\n",
       "      <td>0.0</td>\n",
       "      <td></td>\n",
       "      <td></td>\n",
       "      <td>1</td>\n",
       "      <td>4</td>\n",
       "    </tr>\n",
       "  </tbody>\n",
       "</table>\n",
       "<p>51203 rows × 21 columns</p>\n",
       "</div>"
      ],
      "text/plain": [
       "        match_id  season  start_date  \\\n",
       "0         335982    2008  2008-04-18   \n",
       "1         335982    2008  2008-04-18   \n",
       "2         335982    2008  2008-04-18   \n",
       "3         335982    2008  2008-04-18   \n",
       "4         335982    2008  2008-04-18   \n",
       "...          ...     ...         ...   \n",
       "194254   1254060    2021  2021-04-11   \n",
       "194255   1254060    2021  2021-04-11   \n",
       "194256   1254060    2021  2021-04-11   \n",
       "194257   1254060    2021  2021-04-11   \n",
       "194258   1254060    2021  2021-04-11   \n",
       "\n",
       "                                           venue  innings  ball  \\\n",
       "0                          M.Chinnaswamy Stadium        1   0.1   \n",
       "1                          M.Chinnaswamy Stadium        1   0.2   \n",
       "2                          M.Chinnaswamy Stadium        1   0.3   \n",
       "3                          M.Chinnaswamy Stadium        1   0.4   \n",
       "4                          M.Chinnaswamy Stadium        1   0.5   \n",
       "...                                          ...      ...   ...   \n",
       "194254  MA Chidambaram Stadium, Chepauk, Chennai        2   4.2   \n",
       "194255  MA Chidambaram Stadium, Chepauk, Chennai        2   4.3   \n",
       "194256  MA Chidambaram Stadium, Chepauk, Chennai        2   4.4   \n",
       "194257  MA Chidambaram Stadium, Chepauk, Chennai        2   4.5   \n",
       "194258  MA Chidambaram Stadium, Chepauk, Chennai        2   4.6   \n",
       "\n",
       "                 batting_team                 bowling_team      striker  \\\n",
       "0       Kolkata Knight Riders  Royal Challengers Bangalore   SC Ganguly   \n",
       "1       Kolkata Knight Riders  Royal Challengers Bangalore  BB McCullum   \n",
       "2       Kolkata Knight Riders  Royal Challengers Bangalore  BB McCullum   \n",
       "3       Kolkata Knight Riders  Royal Challengers Bangalore  BB McCullum   \n",
       "4       Kolkata Knight Riders  Royal Challengers Bangalore  BB McCullum   \n",
       "...                       ...                          ...          ...   \n",
       "194254    Sunrisers Hyderabad        Kolkata Knight Riders  JM Bairstow   \n",
       "194255    Sunrisers Hyderabad        Kolkata Knight Riders  JM Bairstow   \n",
       "194256    Sunrisers Hyderabad        Kolkata Knight Riders    MK Pandey   \n",
       "194257    Sunrisers Hyderabad        Kolkata Knight Riders    MK Pandey   \n",
       "194258    Sunrisers Hyderabad        Kolkata Knight Riders    MK Pandey   \n",
       "\n",
       "        non_striker  ... runs_off_bat  extras  wides  noballs  byes  legbyes  \\\n",
       "0       BB McCullum  ...            0       1    0.0      0.0   0.0      1.0   \n",
       "1        SC Ganguly  ...            0       0    0.0      0.0   0.0      0.0   \n",
       "2        SC Ganguly  ...            0       1    1.0      0.0   0.0      0.0   \n",
       "3        SC Ganguly  ...            0       0    0.0      0.0   0.0      0.0   \n",
       "4        SC Ganguly  ...            0       0    0.0      0.0   0.0      0.0   \n",
       "...             ...  ...          ...     ...    ...      ...   ...      ...   \n",
       "194254    MK Pandey  ...            6       0    0.0      0.0   0.0      0.0   \n",
       "194255    MK Pandey  ...            1       0    0.0      0.0   0.0      0.0   \n",
       "194256  JM Bairstow  ...            0       0    0.0      0.0   0.0      0.0   \n",
       "194257  JM Bairstow  ...            4       0    0.0      0.0   0.0      0.0   \n",
       "194258  JM Bairstow  ...            1       0    0.0      0.0   0.0      0.0   \n",
       "\n",
       "        wicket_type player_dismissed run  over  \n",
       "0                                      1     0  \n",
       "1                                      0     0  \n",
       "2                                      1     0  \n",
       "3                                      0     0  \n",
       "4                                      0     0  \n",
       "...             ...              ...  ..   ...  \n",
       "194254                                 6     4  \n",
       "194255                                 1     4  \n",
       "194256                                 0     4  \n",
       "194257                                 4     4  \n",
       "194258                                 1     4  \n",
       "\n",
       "[51203 rows x 21 columns]"
      ]
     },
     "execution_count": 26,
     "metadata": {},
     "output_type": "execute_result"
    }
   ],
   "source": [
    "ipl[ipl['over']<5]"
   ]
  },
  {
   "cell_type": "code",
   "execution_count": 27,
   "id": "ae69c8bf",
   "metadata": {},
   "outputs": [
    {
     "data": {
      "text/html": [
       "<div>\n",
       "<style scoped>\n",
       "    .dataframe tbody tr th:only-of-type {\n",
       "        vertical-align: middle;\n",
       "    }\n",
       "\n",
       "    .dataframe tbody tr th {\n",
       "        vertical-align: top;\n",
       "    }\n",
       "\n",
       "    .dataframe thead th {\n",
       "        text-align: right;\n",
       "    }\n",
       "</style>\n",
       "<table border=\"1\" class=\"dataframe\">\n",
       "  <thead>\n",
       "    <tr style=\"text-align: right;\">\n",
       "      <th></th>\n",
       "      <th></th>\n",
       "      <th>season</th>\n",
       "      <th>innings</th>\n",
       "      <th>ball</th>\n",
       "      <th>runs_off_bat</th>\n",
       "      <th>extras</th>\n",
       "      <th>wides</th>\n",
       "      <th>noballs</th>\n",
       "      <th>byes</th>\n",
       "      <th>legbyes</th>\n",
       "      <th>run</th>\n",
       "      <th>over</th>\n",
       "    </tr>\n",
       "    <tr>\n",
       "      <th>match_id</th>\n",
       "      <th>batting_team</th>\n",
       "      <th></th>\n",
       "      <th></th>\n",
       "      <th></th>\n",
       "      <th></th>\n",
       "      <th></th>\n",
       "      <th></th>\n",
       "      <th></th>\n",
       "      <th></th>\n",
       "      <th></th>\n",
       "      <th></th>\n",
       "      <th></th>\n",
       "    </tr>\n",
       "  </thead>\n",
       "  <tbody>\n",
       "    <tr>\n",
       "      <th rowspan=\"2\" valign=\"top\">335982</th>\n",
       "      <th>Kolkata Knight Riders</th>\n",
       "      <td>64256</td>\n",
       "      <td>32</td>\n",
       "      <td>74.9</td>\n",
       "      <td>50</td>\n",
       "      <td>10</td>\n",
       "      <td>6.0</td>\n",
       "      <td>0.0</td>\n",
       "      <td>0.0</td>\n",
       "      <td>4.0</td>\n",
       "      <td>60</td>\n",
       "      <td>63</td>\n",
       "    </tr>\n",
       "    <tr>\n",
       "      <th>Royal Challengers Bangalore</th>\n",
       "      <td>64256</td>\n",
       "      <td>64</td>\n",
       "      <td>73.9</td>\n",
       "      <td>17</td>\n",
       "      <td>7</td>\n",
       "      <td>2.0</td>\n",
       "      <td>0.0</td>\n",
       "      <td>0.0</td>\n",
       "      <td>5.0</td>\n",
       "      <td>24</td>\n",
       "      <td>62</td>\n",
       "    </tr>\n",
       "    <tr>\n",
       "      <th rowspan=\"2\" valign=\"top\">335983</th>\n",
       "      <th>Chennai Super Kings</th>\n",
       "      <td>64256</td>\n",
       "      <td>32</td>\n",
       "      <td>74.9</td>\n",
       "      <td>39</td>\n",
       "      <td>3</td>\n",
       "      <td>1.0</td>\n",
       "      <td>1.0</td>\n",
       "      <td>0.0</td>\n",
       "      <td>1.0</td>\n",
       "      <td>42</td>\n",
       "      <td>63</td>\n",
       "    </tr>\n",
       "    <tr>\n",
       "      <th>Kings XI Punjab</th>\n",
       "      <td>60240</td>\n",
       "      <td>60</td>\n",
       "      <td>70.5</td>\n",
       "      <td>47</td>\n",
       "      <td>0</td>\n",
       "      <td>0.0</td>\n",
       "      <td>0.0</td>\n",
       "      <td>0.0</td>\n",
       "      <td>0.0</td>\n",
       "      <td>47</td>\n",
       "      <td>60</td>\n",
       "    </tr>\n",
       "    <tr>\n",
       "      <th>335984</th>\n",
       "      <th>Delhi Daredevils</th>\n",
       "      <td>62248</td>\n",
       "      <td>62</td>\n",
       "      <td>72.2</td>\n",
       "      <td>47</td>\n",
       "      <td>1</td>\n",
       "      <td>1.0</td>\n",
       "      <td>0.0</td>\n",
       "      <td>0.0</td>\n",
       "      <td>0.0</td>\n",
       "      <td>48</td>\n",
       "      <td>61</td>\n",
       "    </tr>\n",
       "    <tr>\n",
       "      <th>...</th>\n",
       "      <th>...</th>\n",
       "      <td>...</td>\n",
       "      <td>...</td>\n",
       "      <td>...</td>\n",
       "      <td>...</td>\n",
       "      <td>...</td>\n",
       "      <td>...</td>\n",
       "      <td>...</td>\n",
       "      <td>...</td>\n",
       "      <td>...</td>\n",
       "      <td>...</td>\n",
       "      <td>...</td>\n",
       "    </tr>\n",
       "    <tr>\n",
       "      <th>1254058</th>\n",
       "      <th>Royal Challengers Bangalore</th>\n",
       "      <td>64672</td>\n",
       "      <td>64</td>\n",
       "      <td>74.9</td>\n",
       "      <td>34</td>\n",
       "      <td>7</td>\n",
       "      <td>5.0</td>\n",
       "      <td>1.0</td>\n",
       "      <td>0.0</td>\n",
       "      <td>1.0</td>\n",
       "      <td>41</td>\n",
       "      <td>63</td>\n",
       "    </tr>\n",
       "    <tr>\n",
       "      <th rowspan=\"2\" valign=\"top\">1254059</th>\n",
       "      <th>Chennai Super Kings</th>\n",
       "      <td>62651</td>\n",
       "      <td>31</td>\n",
       "      <td>72.2</td>\n",
       "      <td>27</td>\n",
       "      <td>3</td>\n",
       "      <td>1.0</td>\n",
       "      <td>0.0</td>\n",
       "      <td>0.0</td>\n",
       "      <td>2.0</td>\n",
       "      <td>30</td>\n",
       "      <td>61</td>\n",
       "    </tr>\n",
       "    <tr>\n",
       "      <th>Delhi Capitals</th>\n",
       "      <td>60630</td>\n",
       "      <td>60</td>\n",
       "      <td>70.5</td>\n",
       "      <td>58</td>\n",
       "      <td>0</td>\n",
       "      <td>0.0</td>\n",
       "      <td>0.0</td>\n",
       "      <td>0.0</td>\n",
       "      <td>0.0</td>\n",
       "      <td>58</td>\n",
       "      <td>60</td>\n",
       "    </tr>\n",
       "    <tr>\n",
       "      <th rowspan=\"2\" valign=\"top\">1254060</th>\n",
       "      <th>Kolkata Knight Riders</th>\n",
       "      <td>60630</td>\n",
       "      <td>30</td>\n",
       "      <td>70.5</td>\n",
       "      <td>45</td>\n",
       "      <td>0</td>\n",
       "      <td>0.0</td>\n",
       "      <td>0.0</td>\n",
       "      <td>0.0</td>\n",
       "      <td>0.0</td>\n",
       "      <td>45</td>\n",
       "      <td>60</td>\n",
       "    </tr>\n",
       "    <tr>\n",
       "      <th>Sunrisers Hyderabad</th>\n",
       "      <td>60630</td>\n",
       "      <td>60</td>\n",
       "      <td>70.5</td>\n",
       "      <td>32</td>\n",
       "      <td>0</td>\n",
       "      <td>0.0</td>\n",
       "      <td>0.0</td>\n",
       "      <td>0.0</td>\n",
       "      <td>0.0</td>\n",
       "      <td>32</td>\n",
       "      <td>60</td>\n",
       "    </tr>\n",
       "  </tbody>\n",
       "</table>\n",
       "<p>1636 rows × 11 columns</p>\n",
       "</div>"
      ],
      "text/plain": [
       "                                      season  innings  ball  runs_off_bat  \\\n",
       "match_id batting_team                                                       \n",
       "335982   Kolkata Knight Riders         64256       32  74.9            50   \n",
       "         Royal Challengers Bangalore   64256       64  73.9            17   \n",
       "335983   Chennai Super Kings           64256       32  74.9            39   \n",
       "         Kings XI Punjab               60240       60  70.5            47   \n",
       "335984   Delhi Daredevils              62248       62  72.2            47   \n",
       "...                                      ...      ...   ...           ...   \n",
       "1254058  Royal Challengers Bangalore   64672       64  74.9            34   \n",
       "1254059  Chennai Super Kings           62651       31  72.2            27   \n",
       "         Delhi Capitals                60630       60  70.5            58   \n",
       "1254060  Kolkata Knight Riders         60630       30  70.5            45   \n",
       "         Sunrisers Hyderabad           60630       60  70.5            32   \n",
       "\n",
       "                                      extras  wides  noballs  byes  legbyes  \\\n",
       "match_id batting_team                                                         \n",
       "335982   Kolkata Knight Riders            10    6.0      0.0   0.0      4.0   \n",
       "         Royal Challengers Bangalore       7    2.0      0.0   0.0      5.0   \n",
       "335983   Chennai Super Kings               3    1.0      1.0   0.0      1.0   \n",
       "         Kings XI Punjab                   0    0.0      0.0   0.0      0.0   \n",
       "335984   Delhi Daredevils                  1    1.0      0.0   0.0      0.0   \n",
       "...                                      ...    ...      ...   ...      ...   \n",
       "1254058  Royal Challengers Bangalore       7    5.0      1.0   0.0      1.0   \n",
       "1254059  Chennai Super Kings               3    1.0      0.0   0.0      2.0   \n",
       "         Delhi Capitals                    0    0.0      0.0   0.0      0.0   \n",
       "1254060  Kolkata Knight Riders             0    0.0      0.0   0.0      0.0   \n",
       "         Sunrisers Hyderabad               0    0.0      0.0   0.0      0.0   \n",
       "\n",
       "                                      run  over  \n",
       "match_id batting_team                            \n",
       "335982   Kolkata Knight Riders         60    63  \n",
       "         Royal Challengers Bangalore   24    62  \n",
       "335983   Chennai Super Kings           42    63  \n",
       "         Kings XI Punjab               47    60  \n",
       "335984   Delhi Daredevils              48    61  \n",
       "...                                   ...   ...  \n",
       "1254058  Royal Challengers Bangalore   41    63  \n",
       "1254059  Chennai Super Kings           30    61  \n",
       "         Delhi Capitals                58    60  \n",
       "1254060  Kolkata Knight Riders         45    60  \n",
       "         Sunrisers Hyderabad           32    60  \n",
       "\n",
       "[1636 rows x 11 columns]"
      ]
     },
     "execution_count": 27,
     "metadata": {},
     "output_type": "execute_result"
    }
   ],
   "source": [
    "ipl[ipl['over']<5].groupby(['match_id','batting_team']).sum()\n"
   ]
  },
  {
   "cell_type": "code",
   "execution_count": 28,
   "id": "686f893e",
   "metadata": {},
   "outputs": [
    {
     "data": {
      "text/plain": [
       "batting_team\n",
       "Sunrisers Hyderabad      39.112000\n",
       "Kolkata Knight Riders    38.538860\n",
       "Kings XI Punjab          38.531579\n",
       "Name: run, dtype: float64"
      ]
     },
     "execution_count": 28,
     "metadata": {},
     "output_type": "execute_result"
    }
   ],
   "source": [
    "ipl[ipl['over']<5].groupby(['match_id','batting_team']).sum() ['run'].groupby('batting_team').mean().sort_values(ascending=False)[2:5]"
   ]
  },
  {
   "cell_type": "code",
   "execution_count": 29,
   "id": "1f74a41f",
   "metadata": {},
   "outputs": [],
   "source": [
    "runs = ipl.groupby(['striker','match_id'])['runs_off_bat'].sum()\n"
   ]
  },
  {
   "cell_type": "code",
   "execution_count": 30,
   "id": "374b0325",
   "metadata": {},
   "outputs": [
    {
     "data": {
      "text/plain": [
       "striker\n",
       "CH Gayle          6\n",
       "V Kohli           5\n",
       "DA Warner         4\n",
       "SR Watson         4\n",
       "AB de Villiers    3\n",
       "HM Amla           2\n",
       "M Vijay           2\n",
       "KL Rahul          2\n",
       "SV Samson         2\n",
       "S Dhawan          2\n",
       "Name: runs_off_bat, dtype: int64"
      ]
     },
     "execution_count": 30,
     "metadata": {},
     "output_type": "execute_result"
    }
   ],
   "source": [
    "runs = ipl.groupby(['striker','match_id'])['runs_off_bat'].sum()\n",
    "runs[runs >= 100].droplevel(level=1).groupby('striker').count().sort_values(ascending=False)[:10]"
   ]
  },
  {
   "cell_type": "code",
   "execution_count": 31,
   "id": "85fb54c3",
   "metadata": {},
   "outputs": [],
   "source": [
    "stats=ipl.groupby(['striker','start_date'])['runs_off_bat'].sum()"
   ]
  },
  {
   "cell_type": "code",
   "execution_count": 32,
   "id": "a23a2c1a",
   "metadata": {},
   "outputs": [
    {
     "data": {
      "image/png": "[encoded data removed]",
      "text/plain": [
       "<Figure size 1000x800 with 1 Axes>"
      ]
     },
     "metadata": {},
     "output_type": "display_data"
    }
   ],
   "source": [
    "plt.figure(figsize=(10,8))\n",
    "runs = ipl.groupby(['striker','start_date'])['runs_off_bat'].sum()\n",
    "data = runs[runs >= 50].droplevel(level=1).groupby('striker').count().sort_values(ascending=False)[:10]\n",
    "s.barplot(y=data.index,x=data,orient='h')\n",
    "plt.xlabel('Half-Centuries')\n",
    "plt.ylabel('Batsman')\n",
    "plt.show()"
   ]
  },
  {
   "cell_type": "code",
   "execution_count": 33,
   "id": "8f5303ff",
   "metadata": {},
   "outputs": [
    {
     "data": {
      "text/html": [
       "<div>\n",
       "<style scoped>\n",
       "    .dataframe tbody tr th:only-of-type {\n",
       "        vertical-align: middle;\n",
       "    }\n",
       "\n",
       "    .dataframe tbody tr th {\n",
       "        vertical-align: top;\n",
       "    }\n",
       "\n",
       "    .dataframe thead th {\n",
       "        text-align: right;\n",
       "    }\n",
       "</style>\n",
       "<table border=\"1\" class=\"dataframe\">\n",
       "  <thead>\n",
       "    <tr style=\"text-align: right;\">\n",
       "      <th></th>\n",
       "      <th>match_id</th>\n",
       "      <th>season</th>\n",
       "      <th>start_date</th>\n",
       "      <th>venue</th>\n",
       "      <th>innings</th>\n",
       "      <th>ball</th>\n",
       "      <th>batting_team</th>\n",
       "      <th>bowling_team</th>\n",
       "      <th>striker</th>\n",
       "      <th>non_striker</th>\n",
       "      <th>...</th>\n",
       "      <th>runs_off_bat</th>\n",
       "      <th>extras</th>\n",
       "      <th>wides</th>\n",
       "      <th>noballs</th>\n",
       "      <th>byes</th>\n",
       "      <th>legbyes</th>\n",
       "      <th>wicket_type</th>\n",
       "      <th>player_dismissed</th>\n",
       "      <th>run</th>\n",
       "      <th>over</th>\n",
       "    </tr>\n",
       "  </thead>\n",
       "  <tbody>\n",
       "    <tr>\n",
       "      <th>0</th>\n",
       "      <td>335982</td>\n",
       "      <td>2008</td>\n",
       "      <td>2008-04-18</td>\n",
       "      <td>M.Chinnaswamy Stadium</td>\n",
       "      <td>1</td>\n",
       "      <td>0.1</td>\n",
       "      <td>Kolkata Knight Riders</td>\n",
       "      <td>Royal Challengers Bangalore</td>\n",
       "      <td>SC Ganguly</td>\n",
       "      <td>BB McCullum</td>\n",
       "      <td>...</td>\n",
       "      <td>0</td>\n",
       "      <td>1</td>\n",
       "      <td>0.0</td>\n",
       "      <td>0.0</td>\n",
       "      <td>0.0</td>\n",
       "      <td>1.0</td>\n",
       "      <td></td>\n",
       "      <td></td>\n",
       "      <td>1</td>\n",
       "      <td>0</td>\n",
       "    </tr>\n",
       "    <tr>\n",
       "      <th>1</th>\n",
       "      <td>335982</td>\n",
       "      <td>2008</td>\n",
       "      <td>2008-04-18</td>\n",
       "      <td>M.Chinnaswamy Stadium</td>\n",
       "      <td>1</td>\n",
       "      <td>0.2</td>\n",
       "      <td>Kolkata Knight Riders</td>\n",
       "      <td>Royal Challengers Bangalore</td>\n",
       "      <td>BB McCullum</td>\n",
       "      <td>SC Ganguly</td>\n",
       "      <td>...</td>\n",
       "      <td>0</td>\n",
       "      <td>0</td>\n",
       "      <td>0.0</td>\n",
       "      <td>0.0</td>\n",
       "      <td>0.0</td>\n",
       "      <td>0.0</td>\n",
       "      <td></td>\n",
       "      <td></td>\n",
       "      <td>0</td>\n",
       "      <td>0</td>\n",
       "    </tr>\n",
       "    <tr>\n",
       "      <th>2</th>\n",
       "      <td>335982</td>\n",
       "      <td>2008</td>\n",
       "      <td>2008-04-18</td>\n",
       "      <td>M.Chinnaswamy Stadium</td>\n",
       "      <td>1</td>\n",
       "      <td>0.3</td>\n",
       "      <td>Kolkata Knight Riders</td>\n",
       "      <td>Royal Challengers Bangalore</td>\n",
       "      <td>BB McCullum</td>\n",
       "      <td>SC Ganguly</td>\n",
       "      <td>...</td>\n",
       "      <td>0</td>\n",
       "      <td>1</td>\n",
       "      <td>1.0</td>\n",
       "      <td>0.0</td>\n",
       "      <td>0.0</td>\n",
       "      <td>0.0</td>\n",
       "      <td></td>\n",
       "      <td></td>\n",
       "      <td>1</td>\n",
       "      <td>0</td>\n",
       "    </tr>\n",
       "  </tbody>\n",
       "</table>\n",
       "<p>3 rows × 21 columns</p>\n",
       "</div>"
      ],
      "text/plain": [
       "   match_id  season  start_date                  venue  innings  ball  \\\n",
       "0    335982    2008  2008-04-18  M.Chinnaswamy Stadium        1   0.1   \n",
       "1    335982    2008  2008-04-18  M.Chinnaswamy Stadium        1   0.2   \n",
       "2    335982    2008  2008-04-18  M.Chinnaswamy Stadium        1   0.3   \n",
       "\n",
       "            batting_team                 bowling_team      striker  \\\n",
       "0  Kolkata Knight Riders  Royal Challengers Bangalore   SC Ganguly   \n",
       "1  Kolkata Knight Riders  Royal Challengers Bangalore  BB McCullum   \n",
       "2  Kolkata Knight Riders  Royal Challengers Bangalore  BB McCullum   \n",
       "\n",
       "   non_striker  ... runs_off_bat  extras  wides  noballs  byes  legbyes  \\\n",
       "0  BB McCullum  ...            0       1    0.0      0.0   0.0      1.0   \n",
       "1   SC Ganguly  ...            0       0    0.0      0.0   0.0      0.0   \n",
       "2   SC Ganguly  ...            0       1    1.0      0.0   0.0      0.0   \n",
       "\n",
       "   wicket_type player_dismissed run  over  \n",
       "0                                 1     0  \n",
       "1                                 0     0  \n",
       "2                                 1     0  \n",
       "\n",
       "[3 rows x 21 columns]"
      ]
     },
     "execution_count": 33,
     "metadata": {},
     "output_type": "execute_result"
    }
   ],
   "source": [
    "ipl.head(3)"
   ]
  },
  {
   "cell_type": "code",
   "execution_count": 34,
   "id": "b920f18c",
   "metadata": {},
   "outputs": [
    {
     "data": {
      "text/plain": [
       "venue\n",
       "Dubai International Cricket Stadium                     1\n",
       "Dubai International Cricket Stadium                     1\n",
       "Punjab Cricket Association IS Bindra Stadium, Mohali    1\n",
       "Subrata Roy Sahara Stadium                              1\n",
       "Kingsmead                                               1\n",
       "St George's Park                                        1\n",
       "Sharjah Cricket Stadium                                 1\n",
       "Maharashtra Cricket Association Stadium                 1\n",
       "New Wanderers Stadium                                   1\n",
       "Saurashtra Cricket Association Stadium                  1\n",
       "Name: season, dtype: int64"
      ]
     },
     "execution_count": 34,
     "metadata": {},
     "output_type": "execute_result"
    }
   ],
   "source": [
    "ipl[ipl['runs_off_bat']==6].groupby(['striker','venue']).count() ['season'].sort_values(ascending=True).droplevel(level=0)[:10]"
   ]
  },
  {
   "cell_type": "code",
   "execution_count": 35,
   "id": "6488dad0",
   "metadata": {},
   "outputs": [
    {
     "data": {
      "text/plain": [
       "striker\n",
       "CH Gayle          17\n",
       "BB McCullum       13\n",
       "CH Gayle          13\n",
       "CH Gayle          12\n",
       "AB de Villiers    12\n",
       "M Vijay           11\n",
       "CH Gayle          11\n",
       "AD Russell        11\n",
       "ST Jayasuriya     11\n",
       "SS Iyer           10\n",
       "Name: season, dtype: int64"
      ]
     },
     "execution_count": 35,
     "metadata": {},
     "output_type": "execute_result"
    }
   ],
   "source": [
    "ipl[ipl['runs_off_bat']==6].groupby(['start_date','striker']).count() ['season'].sort_values(ascending=False).droplevel(level=0)[:10]"
   ]
  },
  {
   "cell_type": "code",
   "execution_count": 36,
   "id": "d368189d",
   "metadata": {},
   "outputs": [
    {
     "data": {
      "text/plain": [
       "striker\n",
       "AR Patel         1\n",
       "Anureet Singh    1\n",
       "DA Miller        1\n",
       "KA Pollard       1\n",
       "LMP Simmons      1\n",
       "MA Agarwal       1\n",
       "RG Sharma        1\n",
       "DA Warner        1\n",
       "DR Smith         1\n",
       "Name: season, dtype: int64"
      ]
     },
     "execution_count": 36,
     "metadata": {},
     "output_type": "execute_result"
    }
   ],
   "source": [
    "ipl[ipl['runs_off_bat']==6].groupby(['start_date','striker']).count() ['season'].sort_values(ascending=True).droplevel(level=0)[1:10]"
   ]
  },
  {
   "cell_type": "code",
   "execution_count": 37,
   "id": "5a8096f9",
   "metadata": {},
   "outputs": [
    {
     "data": {
      "text/plain": [
       "striker\n",
       "Shubman Gill     1\n",
       "RA Tripathi      5\n",
       "N Rana           9\n",
       "Mohammad Nabi    2\n",
       "MK Pandey        2\n",
       "KD Karthik       2\n",
       "JM Bairstow      5\n",
       "AD Russell       1\n",
       "SM Curran        4\n",
       "SK Raina         3\n",
       "Name: season, dtype: int64"
      ]
     },
     "execution_count": 37,
     "metadata": {},
     "output_type": "execute_result"
    }
   ],
   "source": [
    "ipl[ipl['runs_off_bat']==4].groupby(['start_date','striker']).count() ['season'].sort_index(ascending=False).droplevel(level=0)[:10]"
   ]
  },
  {
   "cell_type": "code",
   "execution_count": 38,
   "id": "b0a6c6db",
   "metadata": {},
   "outputs": [
    {
     "data": {
      "text/plain": [
       "striker\n",
       "AA Noffke           1\n",
       "BB McCullum        10\n",
       "DJ Hussey           1\n",
       "MV Boucher          1\n",
       "Mohammad Hafeez     1\n",
       "P Kumar             1\n",
       "RT Ponting          1\n",
       "SC Ganguly          2\n",
       "D Salunkhe          4\n",
       "G Gambhir           7\n",
       "Name: season, dtype: int64"
      ]
     },
     "execution_count": 38,
     "metadata": {},
     "output_type": "execute_result"
    }
   ],
   "source": [
    "ipl[ipl['runs_off_bat']==4].groupby(['start_date','striker']).count() ['season'].sort_index(ascending=True).droplevel(level=0)[:10]"
   ]
  },
  {
   "cell_type": "code",
   "execution_count": 39,
   "id": "2f85f7b6",
   "metadata": {},
   "outputs": [
    {
     "data": {
      "text/plain": [
       "striker         season\n",
       "V Kohli         2016      973\n",
       "DA Warner       2016      848\n",
       "KS Williamson   2018      735\n",
       "MEK Hussey      2013      733\n",
       "CH Gayle        2012      733\n",
       "                2013      720\n",
       "DA Warner       2019      692\n",
       "AB de Villiers  2016      687\n",
       "RR Pant         2018      684\n",
       "KL Rahul        2020      676\n",
       "Name: runs_off_bat, dtype: int64"
      ]
     },
     "execution_count": 39,
     "metadata": {},
     "output_type": "execute_result"
    }
   ],
   "source": [
    "ipl.groupby(['striker','season']) ['runs_off_bat'].sum().sort_values(ascending=False)[:10]"
   ]
  },
  {
   "cell_type": "code",
   "execution_count": 40,
   "id": "095d5455",
   "metadata": {},
   "outputs": [
    {
     "data": {
      "text/plain": [
       "striker       season\n",
       "Z Khan        2017       4\n",
       "              2016       6\n",
       "              2014       8\n",
       "              2012      12\n",
       "              2011      21\n",
       "              2010      24\n",
       "              2009       8\n",
       "              2008      34\n",
       "Yuvraj Singh  2019      98\n",
       "              2018      65\n",
       "Name: runs_off_bat, dtype: int64"
      ]
     },
     "execution_count": 40,
     "metadata": {},
     "output_type": "execute_result"
    }
   ],
   "source": [
    "ipl.groupby(['striker','season']) ['runs_off_bat'].sum().sort_index(ascending=False)[:10]"
   ]
  },
  {
   "cell_type": "code",
   "execution_count": 41,
   "id": "21384131",
   "metadata": {},
   "outputs": [
    {
     "data": {
      "image/png": "[encoded data removed]",
      "text/plain": [
       "<Figure size 1000x800 with 1 Axes>"
      ]
     },
     "metadata": {},
     "output_type": "display_data"
    }
   ],
   "source": [
    "plt.figure(figsize=(10,8))\n",
    "data = ipl[ipl['runs_off_bat'] == 6].groupby('season').count()['match_id'].sort_values(ascending=False)\n",
    "s.barplot(y=data.index,x=data,orient='h')\n",
    "plt.xlabel('Sixes')\n",
    "plt.ylabel('Season')\n",
    "plt.show()"
   ]
  },
  {
   "cell_type": "code",
   "execution_count": 42,
   "id": "2343a411",
   "metadata": {},
   "outputs": [
    {
     "data": {
      "text/plain": [
       "start_date  batting_team               \n",
       "2021-04-11  Sunrisers Hyderabad            177\n",
       "            Kolkata Knight Riders          187\n",
       "2021-04-10  Delhi Capitals                 190\n",
       "            Chennai Super Kings            188\n",
       "2021-04-09  Royal Challengers Bangalore    160\n",
       "            Mumbai Indians                 159\n",
       "2020-11-10  Mumbai Indians                 157\n",
       "            Delhi Capitals                 156\n",
       "2020-11-08  Sunrisers Hyderabad            172\n",
       "            Delhi Capitals                 189\n",
       "Name: run, dtype: int64"
      ]
     },
     "execution_count": 42,
     "metadata": {},
     "output_type": "execute_result"
    }
   ],
   "source": [
    "ipl.groupby(['start_date','batting_team']) ['run'].sum().sort_index(ascending=False)[:10]"
   ]
  },
  {
   "cell_type": "code",
   "execution_count": 43,
   "id": "e396cf76",
   "metadata": {},
   "outputs": [
    {
     "data": {
      "text/plain": [
       "start_date  batting_team               \n",
       "2021-04-11  Sunrisers Hyderabad            125\n",
       "            Kolkata Knight Riders          123\n",
       "2021-04-10  Delhi Capitals                 116\n",
       "            Chennai Super Kings            123\n",
       "2021-04-09  Royal Challengers Bangalore    126\n",
       "            Mumbai Indians                 124\n",
       "2020-11-10  Mumbai Indians                 112\n",
       "            Delhi Capitals                 123\n",
       "2020-11-08  Sunrisers Hyderabad            125\n",
       "            Delhi Capitals                 125\n",
       "Name: run, dtype: int64"
      ]
     },
     "execution_count": 43,
     "metadata": {},
     "output_type": "execute_result"
    }
   ],
   "source": [
    "ipl.groupby(['start_date','batting_team']) ['run'].count().sort_index(ascending=False)[:10]"
   ]
  },
  {
   "cell_type": "code",
   "execution_count": 44,
   "id": "17ad6172",
   "metadata": {},
   "outputs": [
    {
     "data": {
      "text/plain": [
       "batting_team\n",
       "Sunrisers Hyderabad    177\n",
       "Sunrisers Hyderabad    170\n",
       "Sunrisers Hyderabad    118\n",
       "Sunrisers Hyderabad    194\n",
       "Sunrisers Hyderabad    129\n",
       "Sunrisers Hyderabad    175\n",
       "Sunrisers Hyderabad    177\n",
       "Sunrisers Hyderabad    137\n",
       "Sunrisers Hyderabad    146\n",
       "Sunrisers Hyderabad    180\n",
       "Name: run, dtype: int64"
      ]
     },
     "execution_count": 44,
     "metadata": {},
     "output_type": "execute_result"
    }
   ],
   "source": [
    "ipl.groupby(['start_date','batting_team']).sum() ['run'].droplevel(level=0).sort_index(ascending=False)[:10]"
   ]
  },
  {
   "cell_type": "code",
   "execution_count": 45,
   "id": "1a43d22a",
   "metadata": {},
   "outputs": [
    {
     "data": {
      "image/png": "[encoded data removed]",
      "text/plain": [
       "<Figure size 1000x900 with 1 Axes>"
      ]
     },
     "metadata": {},
     "output_type": "display_data"
    }
   ],
   "source": [
    "plt.figure(figsize=(10,9))\n",
    "data = ipl[ipl['runs_off_bat'] == 6]['striker'].value_counts()[:10]\n",
    "s.barplot(y=data.index,x=data,orient='h')\n",
    "plt.xlabel('Six')\n",
    "plt.ylabel('Batsman')\n",
    "plt.show()"
   ]
  },
  {
   "cell_type": "raw",
   "id": "7b03f20c",
   "metadata": {},
   "source": []
  },
  {
   "cell_type": "code",
   "execution_count": 46,
   "id": "238e298c",
   "metadata": {},
   "outputs": [
    {
     "data": {
      "text/plain": [
       "striker         start_date\n",
       "CH Gayle        2013-04-23    175\n",
       "BB McCullum     2008-04-18    158\n",
       "AB de Villiers  2015-05-10    133\n",
       "KL Rahul        2020-09-24    132\n",
       "AB de Villiers  2016-05-14    129\n",
       "CH Gayle        2012-05-17    128\n",
       "RR Pant         2018-05-10    128\n",
       "M Vijay         2010-04-03    127\n",
       "DA Warner       2017-04-30    126\n",
       "V Sehwag        2014-05-30    122\n",
       "Name: runs_off_bat, dtype: int64"
      ]
     },
     "execution_count": 46,
     "metadata": {},
     "output_type": "execute_result"
    }
   ],
   "source": [
    "ipl.groupby(['striker','start_date']) ['runs_off_bat'].sum().sort_values(ascending=False)[:10]"
   ]
  },
  {
   "cell_type": "code",
   "execution_count": 47,
   "id": "e6cb592b",
   "metadata": {},
   "outputs": [
    {
     "data": {
      "text/plain": [
       "bowler            start_date\n",
       "Basil Thampi      2018-05-17    70\n",
       "Sandeep Sharma    2014-05-14    66\n",
       "Mujeeb Ur Rahman  2019-04-29    66\n",
       "I Sharma          2013-05-08    66\n",
       "PJ Cummins        2017-05-06    65\n",
       "UT Yadav          2013-05-10    65\n",
       "AS Rajpoot        2020-10-25    64\n",
       "S Kaul            2020-10-04    64\n",
       "AB Dinda          2013-04-13    63\n",
       "TA Boult          2020-10-18    63\n",
       "Name: run, dtype: int64"
      ]
     },
     "execution_count": 47,
     "metadata": {},
     "output_type": "execute_result"
    }
   ],
   "source": [
    "ipl.groupby(['bowler','start_date']) ['run'].sum().sort_values(ascending=False)[:10]"
   ]
  },
  {
   "cell_type": "code",
   "execution_count": 48,
   "id": "a8426077",
   "metadata": {},
   "outputs": [
    {
     "data": {
      "image/png": "[encoded data removed]",
      "text/plain": [
       "<Figure size 1000x800 with 1 Axes>"
      ]
     },
     "metadata": {},
     "output_type": "display_data"
    }
   ],
   "source": [
    "plt.figure(figsize=(10,8))\n",
    "lst = 'caught,bowled,lbw,stumped,caught and bowled,hit wicket'\n",
    "data = ipl[ipl['wicket_type'].apply(lambda x: True if x in lst and x != ' ' else False)]['bowling_team'].value_counts()\n",
    "ipl.groupby(['batting_team'])['extras'].agg('sum').sort_values(ascending=False)\n",
    "s.barplot(y=data.index,x=data,orient='h')\n",
    "plt.xlabel('Wickets')\n",
    "plt.ylabel('Teams')\n",
    "plt.show()"
   ]
  },
  {
   "cell_type": "code",
   "execution_count": 49,
   "id": "17639f42",
   "metadata": {},
   "outputs": [
    {
     "data": {
      "text/plain": [
       "batting_team\n",
       "Royal Challengers Bangalore    106.0\n",
       "Chennai Super Kings             96.0\n",
       "Mumbai Indians                  96.0\n",
       "Rajasthan Royals                94.0\n",
       "Kolkata Knight Riders           90.0\n",
       "Delhi Daredevils                73.0\n",
       "Kings XI Punjab                 71.0\n",
       "Sunrisers Hyderabad             53.0\n",
       "Deccan Chargers                 49.0\n",
       "Pune Warriors                   24.0\n",
       "Delhi Capitals                  21.0\n",
       "Gujarat Lions                   17.0\n",
       "Kochi Tuskers Kerala            11.0\n",
       "Rising Pune Supergiant           8.0\n",
       "Name: noballs, dtype: float64"
      ]
     },
     "execution_count": 49,
     "metadata": {},
     "output_type": "execute_result"
    }
   ],
   "source": [
    "ipl.groupby(['batting_team'])['noballs'].agg('sum').sort_values(ascending=False)"
   ]
  },
  {
   "cell_type": "code",
   "execution_count": 50,
   "id": "6d74687a",
   "metadata": {},
   "outputs": [
    {
     "data": {
      "text/plain": [
       "S Sreesanth    23\n",
       "JJ Bumrah      23\n",
       "A Mishra       21\n",
       "I Sharma       21\n",
       "UT Yadav       19\n",
       "SL Malinga     18\n",
       "AB Dinda       14\n",
       "JA Morkel      13\n",
       "M Morkel       13\n",
       "RP Singh       13\n",
       "Name: bowler, dtype: int64"
      ]
     },
     "execution_count": 50,
     "metadata": {},
     "output_type": "execute_result"
    }
   ],
   "source": [
    "ipl[ipl['noballs'] != 0]['bowler'].value_counts()[:10]"
   ]
  },
  {
   "cell_type": "code",
   "execution_count": 51,
   "id": "099cb7f5",
   "metadata": {},
   "outputs": [
    {
     "data": {
      "text/plain": [
       "batting_team\n",
       "Mumbai Indians                 1002.0\n",
       "Kolkata Knight Riders           912.0\n",
       "Royal Challengers Bangalore     814.0\n",
       "Kings XI Punjab                 786.0\n",
       "Chennai Super Kings             785.0\n",
       "Delhi Daredevils                717.0\n",
       "Rajasthan Royals                652.0\n",
       "Sunrisers Hyderabad             548.0\n",
       "Deccan Chargers                 279.0\n",
       "Pune Warriors                   169.0\n",
       "Gujarat Lions                   134.0\n",
       "Rising Pune Supergiant          118.0\n",
       "Delhi Capitals                  117.0\n",
       "Kochi Tuskers Kerala             89.0\n",
       "Name: wides, dtype: float64"
      ]
     },
     "execution_count": 51,
     "metadata": {},
     "output_type": "execute_result"
    }
   ],
   "source": [
    "ipl.groupby(['batting_team'])['wides'].agg('sum').sort_values(ascending=False)"
   ]
  }
 ],
 "metadata": {
  "kernelspec": {
   "display_name": "Python 3 (ipykernel)",
   "language": "python",
   "name": "python3"
  },
  "language_info": {
   "codemirror_mode": {
    "name": "ipython",
    "version": 3
   },
   "file_extension": ".py",
   "mimetype": "text/x-python",
   "name": "python",
   "nbconvert_exporter": "python",
   "pygments_lexer": "ipython3",
   "version": "3.9.9"
  }
 },
 "nbformat": 4,
 "nbformat_minor": 5
}
